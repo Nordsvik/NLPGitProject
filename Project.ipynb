{
 "cells": [
  {
   "cell_type": "markdown",
   "id": "b5e661ed-b717-4572-b80f-508a77822752",
   "metadata": {},
   "source": [
    "1.\tConsider the datasets of word pairs whose similarity is manually annotated, especially MC-28, Word-Sim, RG, available at https://github.com/alexanderpanchenko/sim-eval. Similarly to the work on this repository, we would like to test the usefulness of any new similarity measure by computing its correlation with human judgment (using Pearson coefficient). Review how Pearson Coefficient works and identify python script to achieve this. Study Datamuse API, which outputs a set of words that are available to a query word. This API is available at http://www.datamuse.com/api/. "
   ]
  },
  {
   "cell_type": "markdown",
   "id": "c0f08ba4-7f1d-4ba8-82fd-c8b6b0f4882b",
   "metadata": {},
   "source": [
    "Datasets downloaded  \n",
    "Pearson np.corrcoef()  \n",
    "https://github.com/gmarmstrong/python-datamuse/ used for interfacing\n"
   ]
  },
  {
   "cell_type": "code",
   "execution_count": 1,
   "id": "d8115d3d-4a61-463a-8570-911ade20836f",
   "metadata": {},
   "outputs": [],
   "source": [
    "import datamuse, csv"
   ]
  },
  {
   "cell_type": "code",
   "execution_count": 28,
   "id": "8e7af24e-9700-401e-8d88-3475dd46b125",
   "metadata": {},
   "outputs": [
    {
     "data": {
      "text/plain": [
       "[{'word': 'door hinge', 'score': 74, 'numSyllables': 2}]"
      ]
     },
     "execution_count": 28,
     "metadata": {},
     "output_type": "execute_result"
    }
   ],
   "source": [
    "api = datamuse.Datamuse()\n",
    "api.words(rel_rhy='orange', max=5)"
   ]
  },
  {
   "cell_type": "code",
   "execution_count": 144,
   "id": "e1c42ca0-0011-4014-a67d-7f40d344f3f6",
   "metadata": {},
   "outputs": [],
   "source": [
    "test = api.words(ml='dank', max=10)"
   ]
  },
  {
   "cell_type": "code",
   "execution_count": 145,
   "id": "06ff8609-c1bb-40a3-a5f6-1a18cf7e5168",
   "metadata": {},
   "outputs": [
    {
     "data": {
      "text/plain": [
       "['clammy',\n",
       " 'wet',\n",
       " 'damp',\n",
       " 'swamp',\n",
       " 'dingy',\n",
       " 'grimy',\n",
       " 'fetid',\n",
       " 'dankest',\n",
       " 'dreary',\n",
       " 'windowless']"
      ]
     },
     "execution_count": 145,
     "metadata": {},
     "output_type": "execute_result"
    }
   ],
   "source": [
    "test[0]['word']\n",
    "\n",
    "[test[i]['word'] for i in range(len(test))]"
   ]
  },
  {
   "cell_type": "markdown",
   "id": "d9fdb873-4140-4a21-9343-1e3d40ed15fd",
   "metadata": {},
   "source": [
    "2.\tWe would like to test the similarity between the pair (X,Y) by using the output of the Datamuse API for both X and Y. Set the number of outcome words in the API to be large, e.g., 100. Use Jaccard similarity to compute the similarity between X and Y (Counting the ratio of common words among the outputs of X and Y Datamuse API over the total number of distinct words in the two outputs)."
   ]
  },
  {
   "cell_type": "code",
   "execution_count": 50,
   "id": "326b788c-6ab3-4e19-a583-bb2d274c8727",
   "metadata": {},
   "outputs": [],
   "source": [
    "def jaccard_sim(list1, list2):\n",
    "    #intersect / union\n",
    "    intersect = (set(list1).intersection(list2))\n",
    "    union = (len(list1) + len(list2)) - len(intersect)\n",
    "    return (len(intersect) / union)"
   ]
  },
  {
   "cell_type": "code",
   "execution_count": 51,
   "id": "23373895-aa31-4ed7-9b48-8bf0b542fe72",
   "metadata": {},
   "outputs": [
    {
     "name": "stdout",
     "output_type": "stream",
     "text": [
      "['canis familiaris', 'hound', 'tail', 'tag', 'heel', 'firedog', 'chase', 'trail', 'bounder', 'blackguard', 'track', 'frump', 'cad', 'pawl', 'click', 'go after', 'andiron', 'chase after', 'domestic dog', 'detent', 'puppy', 'pooch', 'pup', 'pet', 'canine', 'cats', 'terrier', 'pets', 'poodle', 'doggie', 'animal', 'mutt', 'doggy', 'bloodhound', 'rooster', 'goat', 'horse', 'monkey', 'pig', 'handler', 'stray', 'cow', 'hotdog', 'duck', 'boy', 'lapdog', 'beast', 'biscuit', 'jackal', 'girl', 'whelp', 'sled', 'ape', 'sausage', 'man', 'fluffy', 'doll', 'dogg', 'gun', 'guy', 'rascal', 'turd', 'buddy', 'refrigerator', 'fridge', 'toilet', 'neighborhood', 'pal', 'dude', 'bum', 'devil', 'bro', 'piggy', 'sleigh', 'cane', 'pack', 'wild', 'hell', 'scoundrel', 'mate', 'stupid', 'silly', 'chum', 'dumb', 'rabble', 'barney', 'bud', 'chien', 'stinker', 'death', 'evelyn', 'doug', 'god', 'blood', 'oscar', 'boring', 'christ', 'kau', 'hammer', 'watchdog']\n",
      "['hound dog', 'dog', 'hunt', 'bounder', 'blackguard', 'cad', 'heel', 'trace', 'basset', 'mutt', 'bluetick', 'puppy', 'canine', 'rabbit', 'bunny', 'doggie', 'sleuth', 'doggy', 'pedigree', 'pursue', 'beset', 'boy', 'beagle', 'coonhound', 'bloodhound', 'terrier', 'spaniel', 'foxhound', 'basset hound', 'poodle', 'fox terrier', 'rottweiler', 'greyhound', 'pup', 'collie', 'scottish deerhound', 'golden retriever', 'basenji', 'bull terrier', 'pug', 'bulldog', 'border collie', 'weimaraner', 'irish wolfhound', 'rhodesian ridgeback', 'lhasa apso', 'airedale terrier', 'deerhound', 'schnauzer', 'springer spaniel', 'borzoi', 'labrador retriever', 'sheepdog', 'cocker spaniel', 'great dane', 'pinscher', 'cairn terrier', 'malamute', 'doberman', 'chihuahua', 'standard poodle', 'great pyrenees', 'scottish terrier', 'gazehound', 'gun dog', 'buckhound', 'harehound', 'houndfish', 'yoicks', 'bearhound', 'boston bull', 'demiwolf', 'feist', 'mexican hairless', 'english toy spaniel', 'tabbies', 'king charles spaniel', 'toy dog', 'water dog', 'lapdog', 'dalmatian', 'old english sheepdog', 'shepherd dog', 'ferret', 'sausage dog', 'domestic dog', 'wild dog', 'chesapeake bay retriever', 'latrate', 'scotch terrier', 'yorkie', 'retriever', 'sharpei', 'wolfhounds', 'mouser', 'weasels', 'retrievers', 'pekinese', 'bullmastiff', 'cocker']\n"
     ]
    },
    {
     "data": {
      "text/plain": [
       "0.08695652173913043"
      ]
     },
     "execution_count": 51,
     "metadata": {},
     "output_type": "execute_result"
    }
   ],
   "source": [
    "wordlist1 = api.words(ml='dog', max=100)\n",
    "wordlist2 = api.words(ml='hound', max=100)\n",
    "words1 = [wordlist1[i]['word'] for i in range(len(wordlist1))]\n",
    "words2 = [wordlist2[i]['word'] for i in range(len(wordlist2))]\n",
    "\n",
    "print(words1)\n",
    "print(words2)\n",
    "jaccard_sim(words1, words2)"
   ]
  },
  {
   "cell_type": "markdown",
   "id": "785f9d1c-148a-46b3-b631-4d1b69f1c14f",
   "metadata": {},
   "source": [
    "NOW GET SOME NICE FORMULAS FOR JACCARD AND PEARSON FOR LATEX"
   ]
  },
  {
   "cell_type": "markdown",
   "id": "e2ad4860-3490-4326-ba2e-2ed22f92ea33",
   "metadata": {},
   "source": [
    "3.\tRepeat this process of calculating the similarity between each pair in MC-28 dataset, and then calculate the correlation coefficient with the human judgment using Pearson coefficient. Try to optimize the parameters of Datamuse API call by testing distinct number of outputs and monitor the value of the correlation until you reach the highest correlation value. Use this configuration to calculate the correlation value for other datasets, and compare the result with other state-of-art results as reported in relevant literature (e.g., previous sim-eval repository) ."
   ]
  },
  {
   "cell_type": "markdown",
   "id": "834d5809-5038-478c-95f1-aa02e4d7dd86",
   "metadata": {},
   "source": [
    "SIM EVAL NORMALIZES SCORES TO 0,1 WITH MAX BEING 1 SO LET'S DO THAT AS WELL"
   ]
  },
  {
   "cell_type": "code",
   "execution_count": 3,
   "id": "ea52e49b-1424-4b62-ad4d-3ea125a4c7e8",
   "metadata": {},
   "outputs": [],
   "source": [
    "mcreader = csv.reader(open('mc.csv'), delimiter = ';')\n",
    "mcwords = []\n",
    "for i in mcreader:\n",
    "    mcwords.append(i)"
   ]
  },
  {
   "cell_type": "code",
   "execution_count": 4,
   "id": "454b995c-4a3e-42c2-a916-34e1da9e4a4f",
   "metadata": {},
   "outputs": [],
   "source": [
    "sims = []\n",
    "for i in range(len(mcwords)):\n",
    "    sims.append(round(float(mcwords[i][2]),3))"
   ]
  },
  {
   "cell_type": "code",
   "execution_count": 5,
   "id": "1974d901-527d-4a1c-88f4-5c979218c5bc",
   "metadata": {},
   "outputs": [
    {
     "name": "stdout",
     "output_type": "stream",
     "text": [
      "[1.0, 0.9795918367346939, 0.9795918367346939, 0.9591836734693877, 0.9438775510204083, 0.9209183673469388, 0.8928571428571429, 0.8724489795918368, 0.7933673469387755, 0.7857142857142857, 0.7780612244897959, 0.7576530612244898, 0.7525510204081634, 0.7193877551020408, 0.423469387755102, 0.42857142857142855, 0.29591836734693877, 0.2806122448979592, 0.2423469387755102, 0.22704081632653061, 0.22193877551020408, 0.21428571428571427, 0.16071428571428573, 0.1403061224489796, 0.10714285714285714, 0.10714285714285714, 0.03316326530612245, 0.02806122448979592, 0.020408163265306124, 0.020408163265306124]\n"
     ]
    }
   ],
   "source": [
    "maxsim = max(sims)\n",
    "for i in range(len(sims)):\n",
    "    sims[i] = ((sims[i])/(maxsim))\n",
    "print(sims)"
   ]
  },
  {
   "cell_type": "code",
   "execution_count": 6,
   "id": "e861386e-2428-4e94-bdef-e6b324cec611",
   "metadata": {},
   "outputs": [],
   "source": [
    "for i in range(len(mcwords)):\n",
    "    mcwords[i][2] = round(sims[i], 4)"
   ]
  },
  {
   "cell_type": "code",
   "execution_count": 33,
   "id": "0177da33-5c23-4f7c-910e-0f2d321fb0f4",
   "metadata": {},
   "outputs": [
    {
     "name": "stdout",
     "output_type": "stream",
     "text": [
      "[['automobile', 'car', 1.0], ['gem', 'jewel', 0.9796], ['journey', 'voyage', 0.9796], ['boy', 'lad', 0.9592], ['coast', 'shore', 0.9439], ['asylum', 'madhouse', 0.9209], ['magician', 'wizard', 0.8929], ['midday', 'noon', 0.8724], ['furnace', 'stove', 0.7934], ['food', 'fruit', 0.7857], ['bird', 'cock', 0.7781], ['bird', 'crane', 0.7577], ['implement', 'tool', 0.7526], ['brother', 'monk', 0.7194], ['brother', 'lad', 0.4235], ['crane', 'implement', 0.4286], ['car', 'journey', 0.2959], ['monk', 'oracle', 0.2806], ['cemetery', 'woodland', 0.2423], ['food', 'rooster', 0.227], ['coast', 'hill', 0.2219], ['forest', 'graveyard', 0.2143], ['shore', 'woodland', 0.1607], ['monk', 'slave', 0.1403], ['coast', 'forest', 0.1071], ['lad', 'wizard', 0.1071], ['cord', 'smile', 0.0332], ['glass', 'magician', 0.0281], ['rooster', 'voyage', 0.0204], ['noon', 'string', 0.0204]]\n"
     ]
    }
   ],
   "source": [
    "print(mcwords)"
   ]
  },
  {
   "cell_type": "code",
   "execution_count": 60,
   "id": "a0bed6b1-fe22-4f45-b0ec-128ca4905b92",
   "metadata": {},
   "outputs": [],
   "source": [
    "def wordcombosim(wordlist, maxlength=100):\n",
    "    #Wordlist is a list of word combinations where wordlist[i][0] is the first word and wordlist[i][1] the second.\n",
    "    mcsimilarities = []\n",
    "\n",
    "    for i in range(len(wordlist)):\n",
    "        word1 = api.words(ml=str(wordlist[i][0]), max=maxlength)\n",
    "        word2 = api.words(ml=str(wordlist[i][1]), max=maxlength)\n",
    "        words1 = [word1[j]['word'] for j in range(len(word1))]\n",
    "        words2 = [word2[j]['word'] for j in range(len(word2))]\n",
    "        mcsimilarities.append(jaccard_sim(words1, words2))\n",
    "    return mcsimilarities"
   ]
  },
  {
   "cell_type": "code",
   "execution_count": null,
   "id": "e9407b25-8908-40c7-96c0-7a9daf8092aa",
   "metadata": {},
   "outputs": [],
   "source": [
    "#SAVES TASK3 DATA, CAN BE FOUND IN MCCOMBOJACCARDMATRIX.CSV, Records jaccard similarity of every pair in MC, with maxlength going from 100 to 1.\n",
    "combojacmatrix = []\n",
    "for i in range(100,0,-1):\n",
    "    combojacmatrix.append(wordcombosim(mcwords, i))\n",
    "    print(combojacmatrix)"
   ]
  },
  {
   "cell_type": "markdown",
   "id": "ee131982-b5ba-41eb-ab74-5ba339098248",
   "metadata": {},
   "source": [
    "Jaccard matrix is a similarity matrix for decreasing max length of mcwords wordlist"
   ]
  },
  {
   "cell_type": "code",
   "execution_count": 64,
   "id": "638e90e7-4d7d-4d3d-a401-a05f4abc1c17",
   "metadata": {},
   "outputs": [],
   "source": [
    "#WRITES PREVIOUS TO CSV, ALREADY DONE\n",
    "with open('nicecsv.csv', 'w', newline='') as f:\n",
    "    writer = csv.writer(f)\n",
    "    for i in combojacmatrix:\n",
    "        writer.writerow(i)"
   ]
  },
  {
   "cell_type": "code",
   "execution_count": 3,
   "id": "ee693737-4065-4f24-89ef-2ede6a60b446",
   "metadata": {},
   "outputs": [],
   "source": [
    "#READ THE WRITTEN MATRIX\n",
    "readcombojacmatrix = []\n",
    "with open('mccombojaccardmatrix.csv') as f:\n",
    "    reader = csv.reader(f)\n",
    "    for i in reader:\n",
    "        readcombojacmatrix.append(i)"
   ]
  },
  {
   "cell_type": "code",
   "execution_count": 11,
   "id": "07ec4ed4-4ad9-4f52-a3ec-0792633e3f4d",
   "metadata": {},
   "outputs": [],
   "source": [
    "#Make str values floats to return csv to values extracted from api\n",
    "for i in range(len(readcombojacmatrix)):\n",
    "    for j in range(len(readcombojacmatrix[i])):\n",
    "        readcombojacmatrix[i][j] = float(readcombojacmatrix[i][j])\n",
    "        \n",
    "#combojacmatrix == readcombojacmatrix"
   ]
  },
  {
   "cell_type": "code",
   "execution_count": 2,
   "id": "8aea8372-0205-4693-83f6-7cb9204b6def",
   "metadata": {},
   "outputs": [],
   "source": [
    "import numpy as np\n",
    "import matplotlib.pyplot as plt"
   ]
  },
  {
   "cell_type": "code",
   "execution_count": 12,
   "id": "3bfbb7f4-d676-4ba5-ac51-213aa0a8c5a1",
   "metadata": {},
   "outputs": [
    {
     "name": "stdout",
     "output_type": "stream",
     "text": [
      "[0.03333333333333333, 0.02222222222222222, 0.03666666666666667, 0.04063492063492064, 0.04761904761904761, 0.05383838383838384, 0.052939652939652936, 0.04958374958374958, 0.04782051282051283, 0.054057529444526346, 0.05720854423640801, 0.05301501836432513, 0.04804856673964226, 0.05060060283248689, 0.05667896820820359, 0.060882796250725194, 0.06583562097688905, 0.06523336816440264, 0.06494432373456453, 0.06997136695261892, 0.06789207961842074, 0.0720806464514066, 0.07369443782492185, 0.07448265980050663, 0.07671626158985369, 0.07488525830147091, 0.07328242401539432, 0.0719205717943093, 0.07364067867350059, 0.07310303152075413, 0.074001440604536, 0.07288076494706068, 0.07190559692662273, 0.0693160140610877, 0.06690716186210634, 0.06597647870190405, 0.06895975192949472, 0.06994088765718615, 0.06961001932519767, 0.06860373914126416, 0.06971692681346635, 0.07001917821823754, 0.0698678838056074, 0.07153507798310099, 0.07192385950303323, 0.07102119149634646, 0.07045005096258192, 0.07090293076235506, 0.07124174078880403, 0.06995160947683972, 0.06873232058287192, 0.06765017306777672, 0.06697445644891015, 0.06755382729192386, 0.06776469273014812, 0.06864032916026505, 0.06939422153609544, 0.0695787382954341, 0.06880962621936447, 0.06985176913496681, 0.06935137003255273, 0.06872094567104807, 0.06846636126177381, 0.06819024761229887, 0.06870149919390615, 0.06898189260596768, 0.06807666750541239, 0.06744949299741104, 0.06725977696727287, 0.06715798948977043, 0.06660743923798355, 0.06606224838324523, 0.06595916773263395, 0.06520716140750912, 0.06545994879373934, 0.06573610875902455, 0.06628614870470599, 0.06622112028539176, 0.06678356464712372, 0.0661045158260259, 0.06607295749119066, 0.06599846831168941, 0.06598796053639741, 0.06677535617880917, 0.06609360912575703, 0.06618889559673083, 0.06588267264865919, 0.06611832200736112, 0.06542473175537176, 0.0651502013995027, 0.0653606953018173, 0.06542799807616566, 0.06590511499895604, 0.06591438215328735, 0.06533550826827607, 0.06451851771674103, 0.06416313925505326, 0.06402351264907849, 0.06388057243908579, 0.06370706381881856]\n"
     ]
    }
   ],
   "source": [
    "#Make a nice array of 0-100 maxlength similarity means. Reversed to 0-100 for plotting purposes.\n",
    "readcombojacmatrixmeans = []\n",
    "for i in readcombojacmatrix:\n",
    "    readcombojacmatrixmeans.append(np.mean(i))\n",
    "readcombojacmatrixmeans.reverse()\n",
    "print(readcombojacmatrixmeans)"
   ]
  },
  {
   "cell_type": "code",
   "execution_count": 13,
   "id": "f04aa8ed-3543-48c2-b80b-2e891f5d5460",
   "metadata": {},
   "outputs": [
    {
     "name": "stdout",
     "output_type": "stream",
     "text": [
      "24\n"
     ]
    }
   ],
   "source": [
    "#Index of max mean value of maxlength\n",
    "print(max(range(len(readcombojacmatrixmeans)), key=readcombojacmatrixmeans.__getitem__))"
   ]
  },
  {
   "cell_type": "code",
   "execution_count": null,
   "id": "d5085e1c-d470-45f0-8170-9661471fbbfd",
   "metadata": {},
   "outputs": [
    {
     "data": {
      "image/png": "[encoded data removed]",
      "text/plain": [
       "<Figure size 432x288 with 1 Axes>"
      ]
     },
     "metadata": {
      "needs_background": "light"
     },
     "output_type": "display_data"
    }
   ],
   "source": [
    "x = np.linspace(1,100,100)\n",
    "fig = plt.figure()\n",
    "plt.plot(x, readcombojacmatrixmeans)\n",
    "plt.show()"
   ]
  },
  {
   "cell_type": "markdown",
   "id": "0e0714a3-cd18-48e6-bd31-3989faa2b61c",
   "metadata": {},
   "source": [
    "DO PEARSON STUFF"
   ]
  },
  {
   "cell_type": "markdown",
   "id": "151dc0fb-14a7-4931-82a9-01ca91cec8ae",
   "metadata": {},
   "source": [
    "HIGHEST SIM SCORE WITH MAXLENGTH BEING 25."
   ]
  },
  {
   "cell_type": "markdown",
   "id": "b7c2192d-5d87-4b89-b159-57f36530c5ec",
   "metadata": {},
   "source": [
    "4.\tWe would like to test the above strategy at sentence level as well. For this purpose, given sentence S1 and S2, which are tokenized for instance as S1=(w1, w2,..,wn) and S2= (p1, p2, …, pm). Then, the representation of S1, will consist of the overlap of the Datamuse output of each individual token w1, w2,…wm (It is important to set the number of outputted words per API call high in order to increase the chance of overlapping), add to this list the tokens of S1 as well. Repeat the same process for S2 and then compute the similarity between S1 and S2 as jaccard similarity of the representation of S1 and representation of S2. Write a simple python code that allows you to achieve this."
   ]
  },
  {
   "cell_type": "code",
   "execution_count": 140,
   "id": "b96321de-e91c-4515-8ec6-7df51a1fd2a8",
   "metadata": {},
   "outputs": [
    {
     "name": "stdout",
     "output_type": "stream",
     "text": [
      "['Nice' 'folks' 'for' 'good' 'people' 'sentence' 'the']\n",
      "['Another' 'if' 'please' 'sentence' 'you']\n"
     ]
    }
   ],
   "source": [
    "sentence1 = \"Nice sentence for for the people folks good\"\n",
    "sentence2 = \"Another sentence if you please\"\n",
    "sentence1 = np.unique(sentence1 .split())\n",
    "sentence2 = np.unique(sentence2 .split())\n",
    "print(sentence1)\n",
    "print(sentence2)"
   ]
  },
  {
   "cell_type": "code",
   "execution_count": 141,
   "id": "b0ef25cb-481b-4e3a-924b-6d96386943ca",
   "metadata": {},
   "outputs": [],
   "source": [
    "def sentencerepwithoverlap(sentence, maxlength):\n",
    "    rep = []\n",
    "    for i in range(len(sentence)):\n",
    "        word = api.words(ml=str(sentence[i]), max=maxlength)\n",
    "        words = [word[j]['word'] for j in range(len(word))]\n",
    "        rep.append(words)\n",
    "    return rep"
   ]
  },
  {
   "cell_type": "code",
   "execution_count": 142,
   "id": "4a39b2be-9940-48ff-8a72-3b8bb4da9ed5",
   "metadata": {},
   "outputs": [],
   "source": [
    "replist1 = sentencerepwithoverlap(sentence1, 50)\n",
    "replist2 = sentencerepwithoverlap(sentence2, 50)"
   ]
  },
  {
   "cell_type": "code",
   "execution_count": 143,
   "id": "013cdd07-c46a-454d-be5a-c80fdd01d069",
   "metadata": {},
   "outputs": [],
   "source": [
    "#Get intersecting words from sentence words pairwise.\n",
    "def pairwiseintersect(replist):\n",
    "    intersects = []\n",
    "    print(len(replist))\n",
    "    for i in range(len(replist)):\n",
    "        if i != len(replist):\n",
    "            for j in range(i+1, len(replist)):\n",
    "                intersects.append(set(replist[i]).intersection(replist[j]))\n",
    "    return np.unique(intersects)"
   ]
  },
  {
   "cell_type": "code",
   "execution_count": 144,
   "id": "bd1447a3-e553-4ce5-8d7d-77c9a45142f8",
   "metadata": {},
   "outputs": [
    {
     "name": "stdout",
     "output_type": "stream",
     "text": [
      "7\n",
      "5\n"
     ]
    }
   ],
   "source": [
    "intersect1 = pairwiseintersect(replist1)\n",
    "intersect2 = pairwiseintersect(replist2)"
   ]
  },
  {
   "cell_type": "code",
   "execution_count": 145,
   "id": "5ae69823-6fc2-450c-9855-2c7f519284d1",
   "metadata": {},
   "outputs": [],
   "source": [
    "#Clean messy sets and add the overlapping words to original sentence representation\n",
    "if intersect1[0] == set():\n",
    "    intersect1 = intersect1[1:]\n",
    "for i in intersect1:\n",
    "    for j in i:\n",
    "        sentence1 = np.append(sentence1, j)\n",
    "if intersect2[0] == set():\n",
    "    intersect2 = intersect2[1:]\n",
    "for i in intersect2:\n",
    "    for j in i:\n",
    "        sentence2 = np.append(sentence2, j)"
   ]
  },
  {
   "cell_type": "code",
   "execution_count": 147,
   "id": "c07262ba-fdd5-4d40-9706-26cf6d424667",
   "metadata": {},
   "outputs": [
    {
     "name": "stdout",
     "output_type": "stream",
     "text": [
      "['Nice' 'folks' 'for' 'good' 'people' 'sentence' 'the' 'friends' 'good'\n",
      " 'great' 'need' 'next' 'pleasing' 'cool' 'great' 'nifty' 'skillful'\n",
      " 'gracious' 'respectable' 'neat' 'kind' 'fine' 'great' 'individuals'\n",
      " 'everybody' 'men' 'everyone' 'families' 'persons' 'time']\n",
      "['Another' 'if' 'please' 'sentence' 'you' 'that' 'even' 'else' 'like'\n",
      " 'yes' 'may' 'sorry']\n"
     ]
    }
   ],
   "source": [
    "print(sentence1)\n",
    "print(sentence2)"
   ]
  },
  {
   "cell_type": "markdown",
   "id": "de2d72a4-12c9-4c8b-b85f-e43e61fe3002",
   "metadata": {},
   "source": [
    "5.\tWe want to test this strategy on publicly available sentence database. For this purpose, use STSS-131 dataset, available in “A new benchmark dataset with production methodology for short text semantic similarity algorithms” by O’Shea, Bandar and Crockett (ACM Trans. on Speech and Language Processing, 10, 2013). Use Pearson correlation coefficient to test the correlation with the provided human judgment. "
   ]
  },
  {
   "cell_type": "markdown",
   "id": "3c3c5089-77b2-40e0-aa98-8f3f893d26d7",
   "metadata": {},
   "source": [
    "STSS FOUND IN FILE STSS-131\n",
    "QNumber;Sentence1;Sentence2;Human Eval of semantic similarity(0-4);Stdev of Similarity(noisiness)"
   ]
  },
  {
   "cell_type": "markdown",
   "id": "fcc8bf35-02bd-4271-a3ac-446b8a93c466",
   "metadata": {},
   "source": [
    "6.\tRepeat the process of sentence similarity of STSS-131 but using word2vec embedding as in the labs assuming the vector representation of a sentence is the average of the word embedding vectors of all tokens in the sentence. Calculate the corresponding Pearson correlation as well. "
   ]
  },
  {
   "cell_type": "markdown",
   "id": "536fa19d-9e86-4280-8148-590f1dda9053",
   "metadata": {},
   "source": [
    "7.\tRepeat 6) when using Glove and FastText embedding. Comment on the overall performance of Datamuse API based approach for text similarity. "
   ]
  },
  {
   "cell_type": "markdown",
   "id": "45ddb93a-50a6-469b-8a9d-be3db8b1a778",
   "metadata": {},
   "source": [
    "8.\tStudy the programs in https://github.com/gsi-upm/sematch they attempt to provide other individual similarity but using other lexical database, not necessarily WordNet. Accommodate the provided files into your compare and repeat the calculus of Sim(S1,S2) for each pair of sentence where the individual similarity Sim(s,t) is calculated using YAGO concepts or DBPedia concepts freely available from the program. Compare the behavior of the result."
   ]
  },
  {
   "cell_type": "markdown",
   "id": "bf141fed-d493-40c6-b414-59440852a9c1",
   "metadata": {},
   "source": [
    "9.\tSuggest GUI of your own that facilitate the demonstration of your finding above"
   ]
  }
 ],
 "metadata": {
  "kernelspec": {
   "display_name": "Python 3 (ipykernel)",
   "language": "python",
   "name": "python3"
  },
  "language_info": {
   "codemirror_mode": {
    "name": "ipython",
    "version": 3
   },
   "file_extension": ".py",
   "mimetype": "text/x-python",
   "name": "python",
   "nbconvert_exporter": "python",
   "pygments_lexer": "ipython3",
   "version": "3.8.12"
  }
 },
 "nbformat": 4,
 "nbformat_minor": 5
}
