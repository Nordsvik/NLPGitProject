{
 "cells": [
  {
   "cell_type": "markdown",
   "id": "b5e661ed-b717-4572-b80f-508a77822752",
   "metadata": {},
   "source": [
    "1.\tConsider the datasets of word pairs whose similarity is manually annotated, especially MC-28, Word-Sim, RG, available at https://github.com/alexanderpanchenko/sim-eval. Similarly to the work on this repository, we would like to test the usefulness of any new similarity measure by computing its correlation with human judgment (using Pearson coefficient). Review how Pearson Coefficient works and identify python script to achieve this. Study Datamuse API, which outputs a set of words that are available to a query word. This API is available at http://www.datamuse.com/api/. "
   ]
  },
  {
   "cell_type": "markdown",
   "id": "c0f08ba4-7f1d-4ba8-82fd-c8b6b0f4882b",
   "metadata": {},
   "source": [
    "Datasets downloaded  \n",
    "Pearson np.corrcoef()  \n",
    "https://github.com/gmarmstrong/python-datamuse/ used for interfacing\n"
   ]
  },
  {
   "cell_type": "code",
   "execution_count": 1,
   "id": "d8115d3d-4a61-463a-8570-911ade20836f",
   "metadata": {},
   "outputs": [],
   "source": [
    "import datamuse, csv"
   ]
  },
  {
   "cell_type": "code",
   "execution_count": 22,
   "id": "8e7af24e-9700-401e-8d88-3475dd46b125",
   "metadata": {},
   "outputs": [
    {
     "data": {
      "text/plain": [
       "[{'word': 'door hinge', 'score': 74, 'numSyllables': 2}]"
      ]
     },
     "execution_count": 22,
     "metadata": {},
     "output_type": "execute_result"
    }
   ],
   "source": [
    "api = datamuse.Datamuse()\n",
    "api.words(rel_rhy='orange', max=5)"
   ]
  },
  {
   "cell_type": "code",
   "execution_count": 21,
   "id": "e1c42ca0-0011-4014-a67d-7f40d344f3f6",
   "metadata": {},
   "outputs": [
    {
     "ename": "NameError",
     "evalue": "name 'api' is not defined",
     "output_type": "error",
     "traceback": [
      "\u001b[1;31m---------------------------------------------------------------------------\u001b[0m",
      "\u001b[1;31mNameError\u001b[0m                                 Traceback (most recent call last)",
      "\u001b[1;32m~\\AppData\\Local\\Temp/ipykernel_6860/3548741682.py\u001b[0m in \u001b[0;36m<module>\u001b[1;34m\u001b[0m\n\u001b[1;32m----> 1\u001b[1;33m \u001b[0mtest\u001b[0m \u001b[1;33m=\u001b[0m \u001b[0mapi\u001b[0m\u001b[1;33m.\u001b[0m\u001b[0mwords\u001b[0m\u001b[1;33m(\u001b[0m\u001b[0mml\u001b[0m\u001b[1;33m=\u001b[0m\u001b[1;34m'dank'\u001b[0m\u001b[1;33m,\u001b[0m \u001b[0mmax\u001b[0m\u001b[1;33m=\u001b[0m\u001b[1;36m10\u001b[0m\u001b[1;33m)\u001b[0m\u001b[1;33m\u001b[0m\u001b[1;33m\u001b[0m\u001b[0m\n\u001b[0m",
      "\u001b[1;31mNameError\u001b[0m: name 'api' is not defined"
     ]
    }
   ],
   "source": [
    "test = api.words(ml='dank', max=10)"
   ]
  },
  {
   "cell_type": "code",
   "execution_count": 145,
   "id": "06ff8609-c1bb-40a3-a5f6-1a18cf7e5168",
   "metadata": {},
   "outputs": [
    {
     "data": {
      "text/plain": [
       "['clammy',\n",
       " 'wet',\n",
       " 'damp',\n",
       " 'swamp',\n",
       " 'dingy',\n",
       " 'grimy',\n",
       " 'fetid',\n",
       " 'dankest',\n",
       " 'dreary',\n",
       " 'windowless']"
      ]
     },
     "execution_count": 145,
     "metadata": {},
     "output_type": "execute_result"
    }
   ],
   "source": [
    "test[0]['word']\n",
    "\n",
    "[test[i]['word'] for i in range(len(test))]"
   ]
  },
  {
   "cell_type": "markdown",
   "id": "d9fdb873-4140-4a21-9343-1e3d40ed15fd",
   "metadata": {},
   "source": [
    "2.\tWe would like to test the similarity between the pair (X,Y) by using the output of the Datamuse API for both X and Y. Set the number of outcome words in the API to be large, e.g., 100. Use Jaccard similarity to compute the similarity between X and Y (Counting the ratio of common words among the outputs of X and Y Datamuse API over the total number of distinct words in the two outputs)."
   ]
  },
  {
   "cell_type": "code",
   "execution_count": 3,
   "id": "326b788c-6ab3-4e19-a583-bb2d274c8727",
   "metadata": {},
   "outputs": [],
   "source": [
    "def jaccard_sim(list1, list2):\n",
    "    #intersect / union\n",
    "    intersect = (set(list1).intersection(list2))\n",
    "    union = (len(list1) + len(list2)) - len(intersect)\n",
    "    return (len(intersect) / union)"
   ]
  },
  {
   "cell_type": "code",
   "execution_count": 51,
   "id": "23373895-aa31-4ed7-9b48-8bf0b542fe72",
   "metadata": {},
   "outputs": [
    {
     "name": "stdout",
     "output_type": "stream",
     "text": [
      "['canis familiaris', 'hound', 'tail', 'tag', 'heel', 'firedog', 'chase', 'trail', 'bounder', 'blackguard', 'track', 'frump', 'cad', 'pawl', 'click', 'go after', 'andiron', 'chase after', 'domestic dog', 'detent', 'puppy', 'pooch', 'pup', 'pet', 'canine', 'cats', 'terrier', 'pets', 'poodle', 'doggie', 'animal', 'mutt', 'doggy', 'bloodhound', 'rooster', 'goat', 'horse', 'monkey', 'pig', 'handler', 'stray', 'cow', 'hotdog', 'duck', 'boy', 'lapdog', 'beast', 'biscuit', 'jackal', 'girl', 'whelp', 'sled', 'ape', 'sausage', 'man', 'fluffy', 'doll', 'dogg', 'gun', 'guy', 'rascal', 'turd', 'buddy', 'refrigerator', 'fridge', 'toilet', 'neighborhood', 'pal', 'dude', 'bum', 'devil', 'bro', 'piggy', 'sleigh', 'cane', 'pack', 'wild', 'hell', 'scoundrel', 'mate', 'stupid', 'silly', 'chum', 'dumb', 'rabble', 'barney', 'bud', 'chien', 'stinker', 'death', 'evelyn', 'doug', 'god', 'blood', 'oscar', 'boring', 'christ', 'kau', 'hammer', 'watchdog']\n",
      "['hound dog', 'dog', 'hunt', 'bounder', 'blackguard', 'cad', 'heel', 'trace', 'basset', 'mutt', 'bluetick', 'puppy', 'canine', 'rabbit', 'bunny', 'doggie', 'sleuth', 'doggy', 'pedigree', 'pursue', 'beset', 'boy', 'beagle', 'coonhound', 'bloodhound', 'terrier', 'spaniel', 'foxhound', 'basset hound', 'poodle', 'fox terrier', 'rottweiler', 'greyhound', 'pup', 'collie', 'scottish deerhound', 'golden retriever', 'basenji', 'bull terrier', 'pug', 'bulldog', 'border collie', 'weimaraner', 'irish wolfhound', 'rhodesian ridgeback', 'lhasa apso', 'airedale terrier', 'deerhound', 'schnauzer', 'springer spaniel', 'borzoi', 'labrador retriever', 'sheepdog', 'cocker spaniel', 'great dane', 'pinscher', 'cairn terrier', 'malamute', 'doberman', 'chihuahua', 'standard poodle', 'great pyrenees', 'scottish terrier', 'gazehound', 'gun dog', 'buckhound', 'harehound', 'houndfish', 'yoicks', 'bearhound', 'boston bull', 'demiwolf', 'feist', 'mexican hairless', 'english toy spaniel', 'tabbies', 'king charles spaniel', 'toy dog', 'water dog', 'lapdog', 'dalmatian', 'old english sheepdog', 'shepherd dog', 'ferret', 'sausage dog', 'domestic dog', 'wild dog', 'chesapeake bay retriever', 'latrate', 'scotch terrier', 'yorkie', 'retriever', 'sharpei', 'wolfhounds', 'mouser', 'weasels', 'retrievers', 'pekinese', 'bullmastiff', 'cocker']\n"
     ]
    },
    {
     "data": {
      "text/plain": [
       "0.08695652173913043"
      ]
     },
     "execution_count": 51,
     "metadata": {},
     "output_type": "execute_result"
    }
   ],
   "source": [
    "wordlist1 = api.words(ml='dog', max=100)\n",
    "wordlist2 = api.words(ml='hound', max=100)\n",
    "words1 = [wordlist1[i]['word'] for i in range(len(wordlist1))]\n",
    "words2 = [wordlist2[i]['word'] for i in range(len(wordlist2))]\n",
    "\n",
    "print(words1)\n",
    "print(words2)\n",
    "jaccard_sim(words1, words2)"
   ]
  },
  {
   "cell_type": "markdown",
   "id": "785f9d1c-148a-46b3-b631-4d1b69f1c14f",
   "metadata": {},
   "source": [
    "NOW GET SOME NICE FORMULAS FOR JACCARD AND PEARSON FOR LATEX"
   ]
  },
  {
   "cell_type": "markdown",
   "id": "e2ad4860-3490-4326-ba2e-2ed22f92ea33",
   "metadata": {},
   "source": [
    "3.\tRepeat this process of calculating the similarity between each pair in MC-28 dataset, and then calculate the correlation coefficient with the human judgment using Pearson coefficient. Try to optimize the parameters of Datamuse API call by testing distinct number of outputs and monitor the value of the correlation until you reach the highest correlation value. Use this configuration to calculate the correlation value for other datasets, and compare the result with other state-of-art results as reported in relevant literature (e.g., previous sim-eval repository) ."
   ]
  },
  {
   "cell_type": "markdown",
   "id": "834d5809-5038-478c-95f1-aa02e4d7dd86",
   "metadata": {},
   "source": [
    "SIM EVAL NORMALIZES SCORES TO 0,1 WITH MAX BEING 1 SO LET'S DO THAT AS WELL"
   ]
  },
  {
   "cell_type": "code",
   "execution_count": 61,
   "id": "ea52e49b-1424-4b62-ad4d-3ea125a4c7e8",
   "metadata": {},
   "outputs": [],
   "source": [
    "mcreader = csv.reader(open('mc.csv'), delimiter = ';')\n",
    "mcwords = []\n",
    "for i in mcreader:\n",
    "    mcwords.append(i)"
   ]
  },
  {
   "cell_type": "code",
   "execution_count": 62,
   "id": "454b995c-4a3e-42c2-a916-34e1da9e4a4f",
   "metadata": {},
   "outputs": [],
   "source": [
    "sims = []\n",
    "for i in range(len(mcwords)):\n",
    "    sims.append(round(float(mcwords[i][2]),3))"
   ]
  },
  {
   "cell_type": "code",
   "execution_count": 63,
   "id": "0beaee70-6a29-4fd9-afcc-b330ee14b1b1",
   "metadata": {},
   "outputs": [
    {
     "name": "stdout",
     "output_type": "stream",
     "text": [
      "[0.98, 0.96, 0.96, 0.94, 0.925, 0.9025, 0.875, 0.855, 0.7775, 0.77, 0.7625, 0.7425, 0.7375, 0.705, 0.415, 0.42, 0.29, 0.275, 0.2375, 0.2225, 0.2175, 0.21, 0.1575, 0.1375, 0.105, 0.105, 0.0325, 0.0275, 0.02, 0.02]\n"
     ]
    }
   ],
   "source": [
    "maxsim = 4\n",
    "for i in range(len(sims)):\n",
    "    sims[i] = ((sims[i])/(maxsim))\n",
    "print(sims)"
   ]
  },
  {
   "cell_type": "code",
   "execution_count": 64,
   "id": "e861386e-2428-4e94-bdef-e6b324cec611",
   "metadata": {},
   "outputs": [],
   "source": [
    "for i in range(len(mcwords)):\n",
    "    mcwords[i][2] = round(sims[i], 4)"
   ]
  },
  {
   "cell_type": "code",
   "execution_count": 65,
   "id": "0177da33-5c23-4f7c-910e-0f2d321fb0f4",
   "metadata": {},
   "outputs": [
    {
     "name": "stdout",
     "output_type": "stream",
     "text": [
      "[['automobile', 'car', 0.98], ['gem', 'jewel', 0.96], ['journey', 'voyage', 0.96], ['boy', 'lad', 0.94], ['coast', 'shore', 0.925], ['asylum', 'madhouse', 0.9025], ['magician', 'wizard', 0.875], ['midday', 'noon', 0.855], ['furnace', 'stove', 0.7775], ['food', 'fruit', 0.77], ['bird', 'cock', 0.7625], ['bird', 'crane', 0.7425], ['implement', 'tool', 0.7375], ['brother', 'monk', 0.705], ['brother', 'lad', 0.415], ['crane', 'implement', 0.42], ['car', 'journey', 0.29], ['monk', 'oracle', 0.275], ['cemetery', 'woodland', 0.2375], ['food', 'rooster', 0.2225], ['coast', 'hill', 0.2175], ['forest', 'graveyard', 0.21], ['shore', 'woodland', 0.1575], ['monk', 'slave', 0.1375], ['coast', 'forest', 0.105], ['lad', 'wizard', 0.105], ['cord', 'smile', 0.0325], ['glass', 'magician', 0.0275], ['rooster', 'voyage', 0.02], ['noon', 'string', 0.02]]\n"
     ]
    }
   ],
   "source": [
    "print(mcwords)"
   ]
  },
  {
   "cell_type": "code",
   "execution_count": 2,
   "id": "a0bed6b1-fe22-4f45-b0ec-128ca4905b92",
   "metadata": {},
   "outputs": [],
   "source": [
    "def wordcombosim(wordlist, maxlength=100):\n",
    "    #Wordlist is a list of word combinations where wordlist[i][0] is the first word and wordlist[i][1] the second.\n",
    "    mcsimilarities = []\n",
    "\n",
    "    for i in range(len(wordlist)):\n",
    "        word1 = api.words(ml=str(wordlist[i][0]), max=maxlength)\n",
    "        word2 = api.words(ml=str(wordlist[i][1]), max=maxlength)\n",
    "        words1 = [word1[j]['word'] for j in range(len(word1))]\n",
    "        words2 = [word2[j]['word'] for j in range(len(word2))]\n",
    "        mcsimilarities.append(jaccard_sim(words1, words2))\n",
    "    return mcsimilarities"
   ]
  },
  {
   "cell_type": "code",
   "execution_count": 67,
   "id": "e9407b25-8908-40c7-96c0-7a9daf8092aa",
   "metadata": {},
   "outputs": [
    {
     "name": "stdout",
     "output_type": "stream",
     "text": [
      "[[0.12359550561797752, 0.30718954248366015, 0.21951219512195122, 0.1695906432748538, 0.19760479041916168, 0.030927835051546393, 0.1695906432748538, 0.22699386503067484, 0.21951219512195122, 0.010101010101010102, 0.010101010101010102, 0.005025125628140704, 0.005025125628140704, 0.02040816326530612, 0.0989010989010989, 0.0, 0.02040816326530612, 0.03626943005181347, 0.015228426395939087, 0.0, 0.010101010101010102, 0.0, 0.0, 0.005025125628140704, 0.0, 0.010101010101010102, 0.0, 0.0, 0.0, 0.0]]\n"
     ]
    },
    {
     "ename": "KeyboardInterrupt",
     "evalue": "",
     "output_type": "error",
     "traceback": [
      "\u001b[1;31m---------------------------------------------------------------------------\u001b[0m",
      "\u001b[1;31mKeyboardInterrupt\u001b[0m                         Traceback (most recent call last)",
      "\u001b[1;32m~\\AppData\\Local\\Temp/ipykernel_11288/1094020360.py\u001b[0m in \u001b[0;36m<module>\u001b[1;34m\u001b[0m\n\u001b[0;32m      2\u001b[0m \u001b[0mcombojacmatrix\u001b[0m \u001b[1;33m=\u001b[0m \u001b[1;33m[\u001b[0m\u001b[1;33m]\u001b[0m\u001b[1;33m\u001b[0m\u001b[1;33m\u001b[0m\u001b[0m\n\u001b[0;32m      3\u001b[0m \u001b[1;32mfor\u001b[0m \u001b[0mi\u001b[0m \u001b[1;32min\u001b[0m \u001b[0mrange\u001b[0m\u001b[1;33m(\u001b[0m\u001b[1;36m100\u001b[0m\u001b[1;33m,\u001b[0m\u001b[1;36m0\u001b[0m\u001b[1;33m,\u001b[0m\u001b[1;33m-\u001b[0m\u001b[1;36m1\u001b[0m\u001b[1;33m)\u001b[0m\u001b[1;33m:\u001b[0m\u001b[1;33m\u001b[0m\u001b[1;33m\u001b[0m\u001b[0m\n\u001b[1;32m----> 4\u001b[1;33m     \u001b[0mcombojacmatrix\u001b[0m\u001b[1;33m.\u001b[0m\u001b[0mappend\u001b[0m\u001b[1;33m(\u001b[0m\u001b[0mwordcombosim\u001b[0m\u001b[1;33m(\u001b[0m\u001b[0mmcwords\u001b[0m\u001b[1;33m,\u001b[0m \u001b[0mi\u001b[0m\u001b[1;33m)\u001b[0m\u001b[1;33m)\u001b[0m\u001b[1;33m\u001b[0m\u001b[1;33m\u001b[0m\u001b[0m\n\u001b[0m\u001b[0;32m      5\u001b[0m     \u001b[0mprint\u001b[0m\u001b[1;33m(\u001b[0m\u001b[0mcombojacmatrix\u001b[0m\u001b[1;33m)\u001b[0m\u001b[1;33m\u001b[0m\u001b[1;33m\u001b[0m\u001b[0m\n",
      "\u001b[1;32m~\\AppData\\Local\\Temp/ipykernel_11288/313060598.py\u001b[0m in \u001b[0;36mwordcombosim\u001b[1;34m(wordlist, maxlength)\u001b[0m\n\u001b[0;32m      5\u001b[0m     \u001b[1;32mfor\u001b[0m \u001b[0mi\u001b[0m \u001b[1;32min\u001b[0m \u001b[0mrange\u001b[0m\u001b[1;33m(\u001b[0m\u001b[0mlen\u001b[0m\u001b[1;33m(\u001b[0m\u001b[0mwordlist\u001b[0m\u001b[1;33m)\u001b[0m\u001b[1;33m)\u001b[0m\u001b[1;33m:\u001b[0m\u001b[1;33m\u001b[0m\u001b[1;33m\u001b[0m\u001b[0m\n\u001b[0;32m      6\u001b[0m         \u001b[0mword1\u001b[0m \u001b[1;33m=\u001b[0m \u001b[0mapi\u001b[0m\u001b[1;33m.\u001b[0m\u001b[0mwords\u001b[0m\u001b[1;33m(\u001b[0m\u001b[0mml\u001b[0m\u001b[1;33m=\u001b[0m\u001b[0mstr\u001b[0m\u001b[1;33m(\u001b[0m\u001b[0mwordlist\u001b[0m\u001b[1;33m[\u001b[0m\u001b[0mi\u001b[0m\u001b[1;33m]\u001b[0m\u001b[1;33m[\u001b[0m\u001b[1;36m0\u001b[0m\u001b[1;33m]\u001b[0m\u001b[1;33m)\u001b[0m\u001b[1;33m,\u001b[0m \u001b[0mmax\u001b[0m\u001b[1;33m=\u001b[0m\u001b[0mmaxlength\u001b[0m\u001b[1;33m)\u001b[0m\u001b[1;33m\u001b[0m\u001b[1;33m\u001b[0m\u001b[0m\n\u001b[1;32m----> 7\u001b[1;33m         \u001b[0mword2\u001b[0m \u001b[1;33m=\u001b[0m \u001b[0mapi\u001b[0m\u001b[1;33m.\u001b[0m\u001b[0mwords\u001b[0m\u001b[1;33m(\u001b[0m\u001b[0mml\u001b[0m\u001b[1;33m=\u001b[0m\u001b[0mstr\u001b[0m\u001b[1;33m(\u001b[0m\u001b[0mwordlist\u001b[0m\u001b[1;33m[\u001b[0m\u001b[0mi\u001b[0m\u001b[1;33m]\u001b[0m\u001b[1;33m[\u001b[0m\u001b[1;36m1\u001b[0m\u001b[1;33m]\u001b[0m\u001b[1;33m)\u001b[0m\u001b[1;33m,\u001b[0m \u001b[0mmax\u001b[0m\u001b[1;33m=\u001b[0m\u001b[0mmaxlength\u001b[0m\u001b[1;33m)\u001b[0m\u001b[1;33m\u001b[0m\u001b[1;33m\u001b[0m\u001b[0m\n\u001b[0m\u001b[0;32m      8\u001b[0m         \u001b[0mwords1\u001b[0m \u001b[1;33m=\u001b[0m \u001b[1;33m[\u001b[0m\u001b[0mword1\u001b[0m\u001b[1;33m[\u001b[0m\u001b[0mj\u001b[0m\u001b[1;33m]\u001b[0m\u001b[1;33m[\u001b[0m\u001b[1;34m'word'\u001b[0m\u001b[1;33m]\u001b[0m \u001b[1;32mfor\u001b[0m \u001b[0mj\u001b[0m \u001b[1;32min\u001b[0m \u001b[0mrange\u001b[0m\u001b[1;33m(\u001b[0m\u001b[0mlen\u001b[0m\u001b[1;33m(\u001b[0m\u001b[0mword1\u001b[0m\u001b[1;33m)\u001b[0m\u001b[1;33m)\u001b[0m\u001b[1;33m]\u001b[0m\u001b[1;33m\u001b[0m\u001b[1;33m\u001b[0m\u001b[0m\n\u001b[0;32m      9\u001b[0m         \u001b[0mwords2\u001b[0m \u001b[1;33m=\u001b[0m \u001b[1;33m[\u001b[0m\u001b[0mword2\u001b[0m\u001b[1;33m[\u001b[0m\u001b[0mj\u001b[0m\u001b[1;33m]\u001b[0m\u001b[1;33m[\u001b[0m\u001b[1;34m'word'\u001b[0m\u001b[1;33m]\u001b[0m \u001b[1;32mfor\u001b[0m \u001b[0mj\u001b[0m \u001b[1;32min\u001b[0m \u001b[0mrange\u001b[0m\u001b[1;33m(\u001b[0m\u001b[0mlen\u001b[0m\u001b[1;33m(\u001b[0m\u001b[0mword2\u001b[0m\u001b[1;33m)\u001b[0m\u001b[1;33m)\u001b[0m\u001b[1;33m]\u001b[0m\u001b[1;33m\u001b[0m\u001b[1;33m\u001b[0m\u001b[0m\n",
      "\u001b[1;32m~\\anaconda3\\envs\\NLP\\lib\\site-packages\\datamuse\\datamuse.py\u001b[0m in \u001b[0;36mwords\u001b[1;34m(self, **kwargs)\u001b[0m\n\u001b[0;32m     68\u001b[0m         \u001b[1;32mif\u001b[0m \u001b[1;34m'max'\u001b[0m \u001b[1;32mnot\u001b[0m \u001b[1;32min\u001b[0m \u001b[0mkwargs\u001b[0m\u001b[1;33m:\u001b[0m\u001b[1;33m\u001b[0m\u001b[1;33m\u001b[0m\u001b[0m\n\u001b[0;32m     69\u001b[0m             \u001b[0mkwargs\u001b[0m\u001b[1;33m.\u001b[0m\u001b[0mupdate\u001b[0m\u001b[1;33m(\u001b[0m\u001b[1;33m{\u001b[0m\u001b[1;34m'max'\u001b[0m\u001b[1;33m:\u001b[0m \u001b[0mself\u001b[0m\u001b[1;33m.\u001b[0m\u001b[0mmax\u001b[0m\u001b[1;33m}\u001b[0m\u001b[1;33m)\u001b[0m\u001b[1;33m\u001b[0m\u001b[1;33m\u001b[0m\u001b[0m\n\u001b[1;32m---> 70\u001b[1;33m         \u001b[1;32mreturn\u001b[0m \u001b[0mself\u001b[0m\u001b[1;33m.\u001b[0m\u001b[0m_get_resource\u001b[0m\u001b[1;33m(\u001b[0m\u001b[1;34m'words'\u001b[0m\u001b[1;33m,\u001b[0m \u001b[1;33m**\u001b[0m\u001b[0mkwargs\u001b[0m\u001b[1;33m)\u001b[0m\u001b[1;33m\u001b[0m\u001b[1;33m\u001b[0m\u001b[0m\n\u001b[0m\u001b[0;32m     71\u001b[0m \u001b[1;33m\u001b[0m\u001b[0m\n\u001b[0;32m     72\u001b[0m     \u001b[1;32mdef\u001b[0m \u001b[0msuggest\u001b[0m\u001b[1;33m(\u001b[0m\u001b[0mself\u001b[0m\u001b[1;33m,\u001b[0m \u001b[0ms\u001b[0m\u001b[1;33m,\u001b[0m \u001b[0mmax_results\u001b[0m\u001b[1;33m=\u001b[0m\u001b[1;32mNone\u001b[0m\u001b[1;33m,\u001b[0m \u001b[0mvocabulary\u001b[0m\u001b[1;33m=\u001b[0m\u001b[1;32mNone\u001b[0m\u001b[1;33m)\u001b[0m\u001b[1;33m:\u001b[0m\u001b[1;33m\u001b[0m\u001b[1;33m\u001b[0m\u001b[0m\n",
      "\u001b[1;32m~\\anaconda3\\envs\\NLP\\lib\\site-packages\\datamuse\\datamuse.py\u001b[0m in \u001b[0;36m_get_resource\u001b[1;34m(self, endpoint, **kwargs)\u001b[0m\n\u001b[0;32m     56\u001b[0m     \u001b[1;32mdef\u001b[0m \u001b[0m_get_resource\u001b[0m\u001b[1;33m(\u001b[0m\u001b[0mself\u001b[0m\u001b[1;33m,\u001b[0m \u001b[0mendpoint\u001b[0m\u001b[1;33m,\u001b[0m \u001b[1;33m**\u001b[0m\u001b[0mkwargs\u001b[0m\u001b[1;33m)\u001b[0m\u001b[1;33m:\u001b[0m\u001b[1;33m\u001b[0m\u001b[1;33m\u001b[0m\u001b[0m\n\u001b[0;32m     57\u001b[0m         \u001b[0murl\u001b[0m \u001b[1;33m=\u001b[0m \u001b[1;34m'/'\u001b[0m\u001b[1;33m.\u001b[0m\u001b[0mjoin\u001b[0m\u001b[1;33m(\u001b[0m\u001b[1;33m[\u001b[0m\u001b[0mself\u001b[0m\u001b[1;33m.\u001b[0m\u001b[0mapi_root\u001b[0m\u001b[1;33m,\u001b[0m \u001b[0mendpoint\u001b[0m\u001b[1;33m]\u001b[0m\u001b[1;33m)\u001b[0m\u001b[1;33m\u001b[0m\u001b[1;33m\u001b[0m\u001b[0m\n\u001b[1;32m---> 58\u001b[1;33m         \u001b[0mresponse\u001b[0m \u001b[1;33m=\u001b[0m \u001b[0mrequests\u001b[0m\u001b[1;33m.\u001b[0m\u001b[0mget\u001b[0m\u001b[1;33m(\u001b[0m\u001b[0murl\u001b[0m\u001b[1;33m,\u001b[0m \u001b[0mparams\u001b[0m\u001b[1;33m=\u001b[0m\u001b[0mkwargs\u001b[0m\u001b[1;33m)\u001b[0m\u001b[1;33m\u001b[0m\u001b[1;33m\u001b[0m\u001b[0m\n\u001b[0m\u001b[0;32m     59\u001b[0m         \u001b[1;32mreturn\u001b[0m \u001b[0mresponse\u001b[0m\u001b[1;33m.\u001b[0m\u001b[0mjson\u001b[0m\u001b[1;33m(\u001b[0m\u001b[1;33m)\u001b[0m\u001b[1;33m\u001b[0m\u001b[1;33m\u001b[0m\u001b[0m\n\u001b[0;32m     60\u001b[0m \u001b[1;33m\u001b[0m\u001b[0m\n",
      "\u001b[1;32m~\\anaconda3\\envs\\NLP\\lib\\site-packages\\requests\\api.py\u001b[0m in \u001b[0;36mget\u001b[1;34m(url, params, **kwargs)\u001b[0m\n\u001b[0;32m     73\u001b[0m     \"\"\"\n\u001b[0;32m     74\u001b[0m \u001b[1;33m\u001b[0m\u001b[0m\n\u001b[1;32m---> 75\u001b[1;33m     \u001b[1;32mreturn\u001b[0m \u001b[0mrequest\u001b[0m\u001b[1;33m(\u001b[0m\u001b[1;34m'get'\u001b[0m\u001b[1;33m,\u001b[0m \u001b[0murl\u001b[0m\u001b[1;33m,\u001b[0m \u001b[0mparams\u001b[0m\u001b[1;33m=\u001b[0m\u001b[0mparams\u001b[0m\u001b[1;33m,\u001b[0m \u001b[1;33m**\u001b[0m\u001b[0mkwargs\u001b[0m\u001b[1;33m)\u001b[0m\u001b[1;33m\u001b[0m\u001b[1;33m\u001b[0m\u001b[0m\n\u001b[0m\u001b[0;32m     76\u001b[0m \u001b[1;33m\u001b[0m\u001b[0m\n\u001b[0;32m     77\u001b[0m \u001b[1;33m\u001b[0m\u001b[0m\n",
      "\u001b[1;32m~\\anaconda3\\envs\\NLP\\lib\\site-packages\\requests\\api.py\u001b[0m in \u001b[0;36mrequest\u001b[1;34m(method, url, **kwargs)\u001b[0m\n\u001b[0;32m     59\u001b[0m     \u001b[1;31m# cases, and look like a memory leak in others.\u001b[0m\u001b[1;33m\u001b[0m\u001b[1;33m\u001b[0m\u001b[1;33m\u001b[0m\u001b[0m\n\u001b[0;32m     60\u001b[0m     \u001b[1;32mwith\u001b[0m \u001b[0msessions\u001b[0m\u001b[1;33m.\u001b[0m\u001b[0mSession\u001b[0m\u001b[1;33m(\u001b[0m\u001b[1;33m)\u001b[0m \u001b[1;32mas\u001b[0m \u001b[0msession\u001b[0m\u001b[1;33m:\u001b[0m\u001b[1;33m\u001b[0m\u001b[1;33m\u001b[0m\u001b[0m\n\u001b[1;32m---> 61\u001b[1;33m         \u001b[1;32mreturn\u001b[0m \u001b[0msession\u001b[0m\u001b[1;33m.\u001b[0m\u001b[0mrequest\u001b[0m\u001b[1;33m(\u001b[0m\u001b[0mmethod\u001b[0m\u001b[1;33m=\u001b[0m\u001b[0mmethod\u001b[0m\u001b[1;33m,\u001b[0m \u001b[0murl\u001b[0m\u001b[1;33m=\u001b[0m\u001b[0murl\u001b[0m\u001b[1;33m,\u001b[0m \u001b[1;33m**\u001b[0m\u001b[0mkwargs\u001b[0m\u001b[1;33m)\u001b[0m\u001b[1;33m\u001b[0m\u001b[1;33m\u001b[0m\u001b[0m\n\u001b[0m\u001b[0;32m     62\u001b[0m \u001b[1;33m\u001b[0m\u001b[0m\n\u001b[0;32m     63\u001b[0m \u001b[1;33m\u001b[0m\u001b[0m\n",
      "\u001b[1;32m~\\anaconda3\\envs\\NLP\\lib\\site-packages\\requests\\sessions.py\u001b[0m in \u001b[0;36mrequest\u001b[1;34m(self, method, url, params, data, headers, cookies, files, auth, timeout, allow_redirects, proxies, hooks, stream, verify, cert, json)\u001b[0m\n\u001b[0;32m    540\u001b[0m         }\n\u001b[0;32m    541\u001b[0m         \u001b[0msend_kwargs\u001b[0m\u001b[1;33m.\u001b[0m\u001b[0mupdate\u001b[0m\u001b[1;33m(\u001b[0m\u001b[0msettings\u001b[0m\u001b[1;33m)\u001b[0m\u001b[1;33m\u001b[0m\u001b[1;33m\u001b[0m\u001b[0m\n\u001b[1;32m--> 542\u001b[1;33m         \u001b[0mresp\u001b[0m \u001b[1;33m=\u001b[0m \u001b[0mself\u001b[0m\u001b[1;33m.\u001b[0m\u001b[0msend\u001b[0m\u001b[1;33m(\u001b[0m\u001b[0mprep\u001b[0m\u001b[1;33m,\u001b[0m \u001b[1;33m**\u001b[0m\u001b[0msend_kwargs\u001b[0m\u001b[1;33m)\u001b[0m\u001b[1;33m\u001b[0m\u001b[1;33m\u001b[0m\u001b[0m\n\u001b[0m\u001b[0;32m    543\u001b[0m \u001b[1;33m\u001b[0m\u001b[0m\n\u001b[0;32m    544\u001b[0m         \u001b[1;32mreturn\u001b[0m \u001b[0mresp\u001b[0m\u001b[1;33m\u001b[0m\u001b[1;33m\u001b[0m\u001b[0m\n",
      "\u001b[1;32m~\\anaconda3\\envs\\NLP\\lib\\site-packages\\requests\\sessions.py\u001b[0m in \u001b[0;36msend\u001b[1;34m(self, request, **kwargs)\u001b[0m\n\u001b[0;32m    653\u001b[0m \u001b[1;33m\u001b[0m\u001b[0m\n\u001b[0;32m    654\u001b[0m         \u001b[1;31m# Send the request\u001b[0m\u001b[1;33m\u001b[0m\u001b[1;33m\u001b[0m\u001b[1;33m\u001b[0m\u001b[0m\n\u001b[1;32m--> 655\u001b[1;33m         \u001b[0mr\u001b[0m \u001b[1;33m=\u001b[0m \u001b[0madapter\u001b[0m\u001b[1;33m.\u001b[0m\u001b[0msend\u001b[0m\u001b[1;33m(\u001b[0m\u001b[0mrequest\u001b[0m\u001b[1;33m,\u001b[0m \u001b[1;33m**\u001b[0m\u001b[0mkwargs\u001b[0m\u001b[1;33m)\u001b[0m\u001b[1;33m\u001b[0m\u001b[1;33m\u001b[0m\u001b[0m\n\u001b[0m\u001b[0;32m    656\u001b[0m \u001b[1;33m\u001b[0m\u001b[0m\n\u001b[0;32m    657\u001b[0m         \u001b[1;31m# Total elapsed time of the request (approximately)\u001b[0m\u001b[1;33m\u001b[0m\u001b[1;33m\u001b[0m\u001b[1;33m\u001b[0m\u001b[0m\n",
      "\u001b[1;32m~\\anaconda3\\envs\\NLP\\lib\\site-packages\\requests\\adapters.py\u001b[0m in \u001b[0;36msend\u001b[1;34m(self, request, stream, timeout, verify, cert, proxies)\u001b[0m\n\u001b[0;32m    437\u001b[0m         \u001b[1;32mtry\u001b[0m\u001b[1;33m:\u001b[0m\u001b[1;33m\u001b[0m\u001b[1;33m\u001b[0m\u001b[0m\n\u001b[0;32m    438\u001b[0m             \u001b[1;32mif\u001b[0m \u001b[1;32mnot\u001b[0m \u001b[0mchunked\u001b[0m\u001b[1;33m:\u001b[0m\u001b[1;33m\u001b[0m\u001b[1;33m\u001b[0m\u001b[0m\n\u001b[1;32m--> 439\u001b[1;33m                 resp = conn.urlopen(\n\u001b[0m\u001b[0;32m    440\u001b[0m                     \u001b[0mmethod\u001b[0m\u001b[1;33m=\u001b[0m\u001b[0mrequest\u001b[0m\u001b[1;33m.\u001b[0m\u001b[0mmethod\u001b[0m\u001b[1;33m,\u001b[0m\u001b[1;33m\u001b[0m\u001b[1;33m\u001b[0m\u001b[0m\n\u001b[0;32m    441\u001b[0m                     \u001b[0murl\u001b[0m\u001b[1;33m=\u001b[0m\u001b[0murl\u001b[0m\u001b[1;33m,\u001b[0m\u001b[1;33m\u001b[0m\u001b[1;33m\u001b[0m\u001b[0m\n",
      "\u001b[1;32m~\\anaconda3\\envs\\NLP\\lib\\site-packages\\urllib3\\connectionpool.py\u001b[0m in \u001b[0;36murlopen\u001b[1;34m(self, method, url, body, headers, retries, redirect, assert_same_host, timeout, pool_timeout, release_conn, chunked, body_pos, **response_kw)\u001b[0m\n\u001b[0;32m    697\u001b[0m \u001b[1;33m\u001b[0m\u001b[0m\n\u001b[0;32m    698\u001b[0m             \u001b[1;31m# Make the request on the httplib connection object.\u001b[0m\u001b[1;33m\u001b[0m\u001b[1;33m\u001b[0m\u001b[1;33m\u001b[0m\u001b[0m\n\u001b[1;32m--> 699\u001b[1;33m             httplib_response = self._make_request(\n\u001b[0m\u001b[0;32m    700\u001b[0m                 \u001b[0mconn\u001b[0m\u001b[1;33m,\u001b[0m\u001b[1;33m\u001b[0m\u001b[1;33m\u001b[0m\u001b[0m\n\u001b[0;32m    701\u001b[0m                 \u001b[0mmethod\u001b[0m\u001b[1;33m,\u001b[0m\u001b[1;33m\u001b[0m\u001b[1;33m\u001b[0m\u001b[0m\n",
      "\u001b[1;32m~\\anaconda3\\envs\\NLP\\lib\\site-packages\\urllib3\\connectionpool.py\u001b[0m in \u001b[0;36m_make_request\u001b[1;34m(self, conn, method, url, timeout, chunked, **httplib_request_kw)\u001b[0m\n\u001b[0;32m    380\u001b[0m         \u001b[1;31m# Trigger any extra validation we need to do.\u001b[0m\u001b[1;33m\u001b[0m\u001b[1;33m\u001b[0m\u001b[1;33m\u001b[0m\u001b[0m\n\u001b[0;32m    381\u001b[0m         \u001b[1;32mtry\u001b[0m\u001b[1;33m:\u001b[0m\u001b[1;33m\u001b[0m\u001b[1;33m\u001b[0m\u001b[0m\n\u001b[1;32m--> 382\u001b[1;33m             \u001b[0mself\u001b[0m\u001b[1;33m.\u001b[0m\u001b[0m_validate_conn\u001b[0m\u001b[1;33m(\u001b[0m\u001b[0mconn\u001b[0m\u001b[1;33m)\u001b[0m\u001b[1;33m\u001b[0m\u001b[1;33m\u001b[0m\u001b[0m\n\u001b[0m\u001b[0;32m    383\u001b[0m         \u001b[1;32mexcept\u001b[0m \u001b[1;33m(\u001b[0m\u001b[0mSocketTimeout\u001b[0m\u001b[1;33m,\u001b[0m \u001b[0mBaseSSLError\u001b[0m\u001b[1;33m)\u001b[0m \u001b[1;32mas\u001b[0m \u001b[0me\u001b[0m\u001b[1;33m:\u001b[0m\u001b[1;33m\u001b[0m\u001b[1;33m\u001b[0m\u001b[0m\n\u001b[0;32m    384\u001b[0m             \u001b[1;31m# Py2 raises this as a BaseSSLError, Py3 raises it as socket timeout.\u001b[0m\u001b[1;33m\u001b[0m\u001b[1;33m\u001b[0m\u001b[1;33m\u001b[0m\u001b[0m\n",
      "\u001b[1;32m~\\anaconda3\\envs\\NLP\\lib\\site-packages\\urllib3\\connectionpool.py\u001b[0m in \u001b[0;36m_validate_conn\u001b[1;34m(self, conn)\u001b[0m\n\u001b[0;32m   1008\u001b[0m         \u001b[1;31m# Force connect early to allow us to validate the connection.\u001b[0m\u001b[1;33m\u001b[0m\u001b[1;33m\u001b[0m\u001b[1;33m\u001b[0m\u001b[0m\n\u001b[0;32m   1009\u001b[0m         \u001b[1;32mif\u001b[0m \u001b[1;32mnot\u001b[0m \u001b[0mgetattr\u001b[0m\u001b[1;33m(\u001b[0m\u001b[0mconn\u001b[0m\u001b[1;33m,\u001b[0m \u001b[1;34m\"sock\"\u001b[0m\u001b[1;33m,\u001b[0m \u001b[1;32mNone\u001b[0m\u001b[1;33m)\u001b[0m\u001b[1;33m:\u001b[0m  \u001b[1;31m# AppEngine might not have  `.sock`\u001b[0m\u001b[1;33m\u001b[0m\u001b[1;33m\u001b[0m\u001b[0m\n\u001b[1;32m-> 1010\u001b[1;33m             \u001b[0mconn\u001b[0m\u001b[1;33m.\u001b[0m\u001b[0mconnect\u001b[0m\u001b[1;33m(\u001b[0m\u001b[1;33m)\u001b[0m\u001b[1;33m\u001b[0m\u001b[1;33m\u001b[0m\u001b[0m\n\u001b[0m\u001b[0;32m   1011\u001b[0m \u001b[1;33m\u001b[0m\u001b[0m\n\u001b[0;32m   1012\u001b[0m         \u001b[1;32mif\u001b[0m \u001b[1;32mnot\u001b[0m \u001b[0mconn\u001b[0m\u001b[1;33m.\u001b[0m\u001b[0mis_verified\u001b[0m\u001b[1;33m:\u001b[0m\u001b[1;33m\u001b[0m\u001b[1;33m\u001b[0m\u001b[0m\n",
      "\u001b[1;32m~\\anaconda3\\envs\\NLP\\lib\\site-packages\\urllib3\\connection.py\u001b[0m in \u001b[0;36mconnect\u001b[1;34m(self)\u001b[0m\n\u001b[0;32m    356\u001b[0m     \u001b[1;32mdef\u001b[0m \u001b[0mconnect\u001b[0m\u001b[1;33m(\u001b[0m\u001b[0mself\u001b[0m\u001b[1;33m)\u001b[0m\u001b[1;33m:\u001b[0m\u001b[1;33m\u001b[0m\u001b[1;33m\u001b[0m\u001b[0m\n\u001b[0;32m    357\u001b[0m         \u001b[1;31m# Add certificate verification\u001b[0m\u001b[1;33m\u001b[0m\u001b[1;33m\u001b[0m\u001b[1;33m\u001b[0m\u001b[0m\n\u001b[1;32m--> 358\u001b[1;33m         \u001b[0mconn\u001b[0m \u001b[1;33m=\u001b[0m \u001b[0mself\u001b[0m\u001b[1;33m.\u001b[0m\u001b[0m_new_conn\u001b[0m\u001b[1;33m(\u001b[0m\u001b[1;33m)\u001b[0m\u001b[1;33m\u001b[0m\u001b[1;33m\u001b[0m\u001b[0m\n\u001b[0m\u001b[0;32m    359\u001b[0m         \u001b[0mhostname\u001b[0m \u001b[1;33m=\u001b[0m \u001b[0mself\u001b[0m\u001b[1;33m.\u001b[0m\u001b[0mhost\u001b[0m\u001b[1;33m\u001b[0m\u001b[1;33m\u001b[0m\u001b[0m\n\u001b[0;32m    360\u001b[0m         \u001b[0mtls_in_tls\u001b[0m \u001b[1;33m=\u001b[0m \u001b[1;32mFalse\u001b[0m\u001b[1;33m\u001b[0m\u001b[1;33m\u001b[0m\u001b[0m\n",
      "\u001b[1;32m~\\anaconda3\\envs\\NLP\\lib\\site-packages\\urllib3\\connection.py\u001b[0m in \u001b[0;36m_new_conn\u001b[1;34m(self)\u001b[0m\n\u001b[0;32m    172\u001b[0m \u001b[1;33m\u001b[0m\u001b[0m\n\u001b[0;32m    173\u001b[0m         \u001b[1;32mtry\u001b[0m\u001b[1;33m:\u001b[0m\u001b[1;33m\u001b[0m\u001b[1;33m\u001b[0m\u001b[0m\n\u001b[1;32m--> 174\u001b[1;33m             conn = connection.create_connection(\n\u001b[0m\u001b[0;32m    175\u001b[0m                 \u001b[1;33m(\u001b[0m\u001b[0mself\u001b[0m\u001b[1;33m.\u001b[0m\u001b[0m_dns_host\u001b[0m\u001b[1;33m,\u001b[0m \u001b[0mself\u001b[0m\u001b[1;33m.\u001b[0m\u001b[0mport\u001b[0m\u001b[1;33m)\u001b[0m\u001b[1;33m,\u001b[0m \u001b[0mself\u001b[0m\u001b[1;33m.\u001b[0m\u001b[0mtimeout\u001b[0m\u001b[1;33m,\u001b[0m \u001b[1;33m**\u001b[0m\u001b[0mextra_kw\u001b[0m\u001b[1;33m\u001b[0m\u001b[1;33m\u001b[0m\u001b[0m\n\u001b[0;32m    176\u001b[0m             )\n",
      "\u001b[1;32m~\\anaconda3\\envs\\NLP\\lib\\site-packages\\urllib3\\util\\connection.py\u001b[0m in \u001b[0;36mcreate_connection\u001b[1;34m(address, timeout, source_address, socket_options)\u001b[0m\n\u001b[0;32m     84\u001b[0m             \u001b[1;32mif\u001b[0m \u001b[0msource_address\u001b[0m\u001b[1;33m:\u001b[0m\u001b[1;33m\u001b[0m\u001b[1;33m\u001b[0m\u001b[0m\n\u001b[0;32m     85\u001b[0m                 \u001b[0msock\u001b[0m\u001b[1;33m.\u001b[0m\u001b[0mbind\u001b[0m\u001b[1;33m(\u001b[0m\u001b[0msource_address\u001b[0m\u001b[1;33m)\u001b[0m\u001b[1;33m\u001b[0m\u001b[1;33m\u001b[0m\u001b[0m\n\u001b[1;32m---> 86\u001b[1;33m             \u001b[0msock\u001b[0m\u001b[1;33m.\u001b[0m\u001b[0mconnect\u001b[0m\u001b[1;33m(\u001b[0m\u001b[0msa\u001b[0m\u001b[1;33m)\u001b[0m\u001b[1;33m\u001b[0m\u001b[1;33m\u001b[0m\u001b[0m\n\u001b[0m\u001b[0;32m     87\u001b[0m             \u001b[1;32mreturn\u001b[0m \u001b[0msock\u001b[0m\u001b[1;33m\u001b[0m\u001b[1;33m\u001b[0m\u001b[0m\n\u001b[0;32m     88\u001b[0m \u001b[1;33m\u001b[0m\u001b[0m\n",
      "\u001b[1;31mKeyboardInterrupt\u001b[0m: "
     ]
    }
   ],
   "source": [
    "#SAVES TASK3 DATA, CAN BE FOUND IN MCCOMBOJACCARDMATRIX.CSV, Records jaccard similarity of every pair in MC, with maxlength going from 100 to 1.\n",
    "combojacmatrix = []\n",
    "for i in range(100,0,-1):\n",
    "    combojacmatrix.append(wordcombosim(mcwords, i))\n",
    "    print(combojacmatrix)"
   ]
  },
  {
   "cell_type": "markdown",
   "id": "ee131982-b5ba-41eb-ab74-5ba339098248",
   "metadata": {},
   "source": [
    "Jaccard matrix is a similarity matrix for decreasing max length of mcwords wordlist"
   ]
  },
  {
   "cell_type": "code",
   "execution_count": 64,
   "id": "638e90e7-4d7d-4d3d-a401-a05f4abc1c17",
   "metadata": {},
   "outputs": [],
   "source": [
    "#WRITES PREVIOUS TO CSV, ALREADY DONE\n",
    "with open('nicecsv.csv', 'w', newline='') as f:\n",
    "    writer = csv.writer(f)\n",
    "    for i in combojacmatrix:\n",
    "        writer.writerow(i)"
   ]
  },
  {
   "cell_type": "code",
   "execution_count": 4,
   "id": "ee693737-4065-4f24-89ef-2ede6a60b446",
   "metadata": {},
   "outputs": [],
   "source": [
    "#READ THE WRITTEN MATRIX\n",
    "readcombojacmatrix = []\n",
    "with open('mccombojaccardmatrix.csv') as f:\n",
    "    reader = csv.reader(f)\n",
    "    for i in reader:\n",
    "        readcombojacmatrix.append(i)"
   ]
  },
  {
   "cell_type": "code",
   "execution_count": 5,
   "id": "07ec4ed4-4ad9-4f52-a3ec-0792633e3f4d",
   "metadata": {},
   "outputs": [],
   "source": [
    "#Make str values floats to return csv to values extracted from api\n",
    "for i in range(len(readcombojacmatrix)):\n",
    "    for j in range(len(readcombojacmatrix[i])):\n",
    "        readcombojacmatrix[i][j] = float(readcombojacmatrix[i][j])\n",
    "        \n",
    "#combojacmatrix == readcombojacmatrix"
   ]
  },
  {
   "cell_type": "code",
   "execution_count": 6,
   "id": "8aea8372-0205-4693-83f6-7cb9204b6def",
   "metadata": {},
   "outputs": [],
   "source": [
    "import numpy as np\n",
    "import matplotlib.pyplot as plt"
   ]
  },
  {
   "cell_type": "code",
   "execution_count": 7,
   "id": "3bfbb7f4-d676-4ba5-ac51-213aa0a8c5a1",
   "metadata": {},
   "outputs": [
    {
     "name": "stdout",
     "output_type": "stream",
     "text": [
      "[0.03333333333333333, 0.02222222222222222, 0.03666666666666667, 0.04063492063492064, 0.04761904761904761, 0.05383838383838384, 0.052939652939652936, 0.04958374958374958, 0.04782051282051283, 0.054057529444526346, 0.05720854423640801, 0.05301501836432513, 0.04804856673964226, 0.05060060283248689, 0.05667896820820359, 0.060882796250725194, 0.06583562097688905, 0.06523336816440264, 0.06494432373456453, 0.06997136695261892, 0.06789207961842074, 0.0720806464514066, 0.07369443782492185, 0.07448265980050663, 0.07671626158985369, 0.07488525830147091, 0.07328242401539432, 0.0719205717943093, 0.07364067867350059, 0.07310303152075413, 0.074001440604536, 0.07288076494706068, 0.07190559692662273, 0.0693160140610877, 0.06690716186210634, 0.06597647870190405, 0.06895975192949472, 0.06994088765718615, 0.06961001932519767, 0.06860373914126416, 0.06971692681346635, 0.07001917821823754, 0.0698678838056074, 0.07153507798310099, 0.07192385950303323, 0.07102119149634646, 0.07045005096258192, 0.07090293076235506, 0.07124174078880403, 0.06995160947683972, 0.06873232058287192, 0.06765017306777672, 0.06697445644891015, 0.06755382729192386, 0.06776469273014812, 0.06864032916026505, 0.06939422153609544, 0.0695787382954341, 0.06880962621936447, 0.06985176913496681, 0.06935137003255273, 0.06872094567104807, 0.06846636126177381, 0.06819024761229887, 0.06870149919390615, 0.06898189260596768, 0.06807666750541239, 0.06744949299741104, 0.06725977696727287, 0.06715798948977043, 0.06660743923798355, 0.06606224838324523, 0.06595916773263395, 0.06520716140750912, 0.06545994879373934, 0.06573610875902455, 0.06628614870470599, 0.06622112028539176, 0.06678356464712372, 0.0661045158260259, 0.06607295749119066, 0.06599846831168941, 0.06598796053639741, 0.06677535617880917, 0.06609360912575703, 0.06618889559673083, 0.06588267264865919, 0.06611832200736112, 0.06542473175537176, 0.0651502013995027, 0.0653606953018173, 0.06542799807616566, 0.06590511499895604, 0.06591438215328735, 0.06533550826827607, 0.06451851771674103, 0.06416313925505326, 0.06402351264907849, 0.06388057243908579, 0.06370706381881856]\n"
     ]
    }
   ],
   "source": [
    "#Make a nice array of 0-100 maxlength similarity means. Reversed to 0-100 for plotting purposes.\n",
    "readcombojacmatrixmeans = []\n",
    "for i in readcombojacmatrix:\n",
    "    readcombojacmatrixmeans.append(np.mean(i))\n",
    "readcombojacmatrixmeans.reverse()\n",
    "print(readcombojacmatrixmeans)"
   ]
  },
  {
   "cell_type": "code",
   "execution_count": 8,
   "id": "f04aa8ed-3543-48c2-b80b-2e891f5d5460",
   "metadata": {},
   "outputs": [
    {
     "name": "stdout",
     "output_type": "stream",
     "text": [
      "24\n"
     ]
    }
   ],
   "source": [
    "#Index of max mean value of maxlength\n",
    "print(max(range(len(readcombojacmatrixmeans)), key=readcombojacmatrixmeans.__getitem__))"
   ]
  },
  {
   "cell_type": "code",
   "execution_count": 9,
   "id": "d5085e1c-d470-45f0-8170-9661471fbbfd",
   "metadata": {},
   "outputs": [
    {
     "data": {
      "image/png": "[encoded data removed]",
      "text/plain": [
       "<Figure size 432x288 with 1 Axes>"
      ]
     },
     "metadata": {
      "needs_background": "light"
     },
     "output_type": "display_data"
    }
   ],
   "source": [
    "x = np.linspace(1,100,100)\n",
    "fig = plt.figure()\n",
    "plt.plot(x, readcombojacmatrixmeans)\n",
    "plt.show()"
   ]
  },
  {
   "cell_type": "markdown",
   "id": "0e0714a3-cd18-48e6-bd31-3989faa2b61c",
   "metadata": {},
   "source": [
    "DO PEARSON STUFF"
   ]
  },
  {
   "cell_type": "markdown",
   "id": "151dc0fb-14a7-4931-82a9-01ca91cec8ae",
   "metadata": {},
   "source": [
    "HIGHEST SIM SCORE WITH MAXLENGTH BEING 25."
   ]
  },
  {
   "cell_type": "markdown",
   "id": "b7c2192d-5d87-4b89-b159-57f36530c5ec",
   "metadata": {},
   "source": [
    "4.\tWe would like to test the above strategy at sentence level as well. For this purpose, given sentence S1 and S2, which are tokenized for instance as S1=(w1, w2,..,wn) and S2= (p1, p2, …, pm). Then, the representation of S1, will consist of the overlap of the Datamuse output of each individual token w1, w2,…wm (It is important to set the number of outputted words per API call high in order to increase the chance of overlapping), add to this list the tokens of S1 as well. Repeat the same process for S2 and then compute the similarity between S1 and S2 as jaccard similarity of the representation of S1 and representation of S2. Write a simple python code that allows you to achieve this."
   ]
  },
  {
   "cell_type": "code",
   "execution_count": 12,
   "id": "b96321de-e91c-4515-8ec6-7df51a1fd2a8",
   "metadata": {},
   "outputs": [
    {
     "name": "stdout",
     "output_type": "stream",
     "text": [
      "['Nice' 'folks' 'for' 'good' 'people' 'sentence' 'the']\n",
      "['Another' 'if' 'please' 'sentence' 'you']\n"
     ]
    }
   ],
   "source": [
    "sentence1 = \"Nice sentence for for the people folks good\"\n",
    "sentence2 = \"Another sentence if you please\"\n",
    "sentence1 = np.unique(sentence1.split())\n",
    "sentence2 = np.unique(sentence2.split())\n",
    "print(sentence1)\n",
    "print(sentence2)"
   ]
  },
  {
   "cell_type": "code",
   "execution_count": 10,
   "id": "b0ef25cb-481b-4e3a-924b-6d96386943ca",
   "metadata": {},
   "outputs": [],
   "source": [
    "def sentencerepwithoverlap(sentence, maxlength):\n",
    "    rep = []\n",
    "    for i in range(len(sentence)):\n",
    "        word = api.words(ml=str(sentence[i]), max=maxlength)\n",
    "        words = [word[j]['word'] for j in range(len(word))]\n",
    "        rep.append(words)\n",
    "    return rep"
   ]
  },
  {
   "cell_type": "code",
   "execution_count": 11,
   "id": "4a39b2be-9940-48ff-8a72-3b8bb4da9ed5",
   "metadata": {},
   "outputs": [
    {
     "ename": "NameError",
     "evalue": "name 'sentence1' is not defined",
     "output_type": "error",
     "traceback": [
      "\u001b[1;31m---------------------------------------------------------------------------\u001b[0m",
      "\u001b[1;31mNameError\u001b[0m                                 Traceback (most recent call last)",
      "\u001b[1;32m~\\AppData\\Local\\Temp/ipykernel_6860/3987731903.py\u001b[0m in \u001b[0;36m<module>\u001b[1;34m\u001b[0m\n\u001b[1;32m----> 1\u001b[1;33m \u001b[0mreplist1\u001b[0m \u001b[1;33m=\u001b[0m \u001b[0msentencerepwithoverlap\u001b[0m\u001b[1;33m(\u001b[0m\u001b[0msentence1\u001b[0m\u001b[1;33m,\u001b[0m \u001b[1;36m50\u001b[0m\u001b[1;33m)\u001b[0m\u001b[1;33m\u001b[0m\u001b[1;33m\u001b[0m\u001b[0m\n\u001b[0m\u001b[0;32m      2\u001b[0m \u001b[0mreplist2\u001b[0m \u001b[1;33m=\u001b[0m \u001b[0msentencerepwithoverlap\u001b[0m\u001b[1;33m(\u001b[0m\u001b[0msentence2\u001b[0m\u001b[1;33m,\u001b[0m \u001b[1;36m50\u001b[0m\u001b[1;33m)\u001b[0m\u001b[1;33m\u001b[0m\u001b[1;33m\u001b[0m\u001b[0m\n",
      "\u001b[1;31mNameError\u001b[0m: name 'sentence1' is not defined"
     ]
    }
   ],
   "source": [
    "replist1 = sentencerepwithoverlap(sentence1, 50)\n",
    "replist2 = sentencerepwithoverlap(sentence2, 50)"
   ]
  },
  {
   "cell_type": "code",
   "execution_count": 13,
   "id": "013cdd07-c46a-454d-be5a-c80fdd01d069",
   "metadata": {},
   "outputs": [],
   "source": [
    "#Get intersecting words from sentence words pairwise.\n",
    "def pairwiseintersect(replist):\n",
    "    intersects = []\n",
    "    print(len(replist))\n",
    "    for i in range(len(replist)):\n",
    "        if i != len(replist):\n",
    "            for j in range(i+1, len(replist)):\n",
    "                intersects.append(set(replist[i]).intersection(replist[j]))\n",
    "    return np.unique(intersects)"
   ]
  },
  {
   "cell_type": "code",
   "execution_count": 78,
   "id": "bd1447a3-e553-4ce5-8d7d-77c9a45142f8",
   "metadata": {},
   "outputs": [
    {
     "name": "stdout",
     "output_type": "stream",
     "text": [
      "7\n",
      "5\n"
     ]
    }
   ],
   "source": [
    "intersect1 = pairwiseintersect(replist1)\n",
    "intersect2 = pairwiseintersect(replist2)"
   ]
  },
  {
   "cell_type": "code",
   "execution_count": 79,
   "id": "5ae69823-6fc2-450c-9855-2c7f519284d1",
   "metadata": {},
   "outputs": [],
   "source": [
    "#Clean messy sets and add the overlapping words to original sentence representation\n",
    "if intersect1[0] == set():\n",
    "    intersect1 = intersect1[1:]\n",
    "for i in intersect1:\n",
    "    for j in i:\n",
    "        sentence1 = np.append(sentence1, j)\n",
    "if intersect2[0] == set():\n",
    "    intersect2 = intersect2[1:]\n",
    "for i in intersect2:\n",
    "    for j in i:\n",
    "        sentence2 = np.append(sentence2, j)"
   ]
  },
  {
   "cell_type": "code",
   "execution_count": 23,
   "id": "c07262ba-fdd5-4d40-9706-26cf6d424667",
   "metadata": {},
   "outputs": [
    {
     "name": "stdout",
     "output_type": "stream",
     "text": [
      "['Nice' 'folks' 'for' 'good' 'people' 'sentence' 'the']\n",
      "['Another' 'if' 'please' 'sentence' 'you']\n"
     ]
    },
    {
     "data": {
      "text/plain": [
       "0.09090909090909091"
      ]
     },
     "execution_count": 23,
     "metadata": {},
     "output_type": "execute_result"
    }
   ],
   "source": [
    "print(sentence1)\n",
    "print(sentence2)\n",
    "jaccard_sim(sentence1, sentence2)"
   ]
  },
  {
   "cell_type": "code",
   "execution_count": 24,
   "id": "30ed8e7c-ba91-456c-8b05-a8e422541704",
   "metadata": {},
   "outputs": [
    {
     "name": "stdout",
     "output_type": "stream",
     "text": [
      "[0.125, 0.31125827814569534, 0.2222222222222222, 0.17159763313609466, 0.2, 0.03125, 0.17159763313609466, 0.22981366459627328, 0.2147239263803681, 0.01020408163265306, 0.01020408163265306, 0.005076142131979695, 0.005076142131979695, 0.020618556701030927, 0.1, 0.0, 0.015384615384615385, 0.03664921465968586, 0.015384615384615385, 0.0, 0.01020408163265306, 0.0, 0.0, 0.005076142131979695, 0.0, 0.005076142131979695, 0.0, 0.0, 0.0, 0.0]\n",
      "[0.16030534351145037, 0.26666666666666666, 0.2459016393442623, 0.1875, 0.216, 0.034013605442176874, 0.14285714285714285, 0.256198347107438, 0.22580645161290322, 0.006622516556291391, 0.013333333333333334, 0.0, 0.006622516556291391, 0.02702702702702703, 0.10948905109489052, 0.0, 0.020134228187919462, 0.02702702702702703, 0.006622516556291391, 0.0, 0.013333333333333334, 0.0, 0.0, 0.0, 0.0, 0.006622516556291391, 0.0, 0.0, 0.0, 0.0]\n"
     ]
    },
    {
     "ename": "NameError",
     "evalue": "name 'sims' is not defined",
     "output_type": "error",
     "traceback": [
      "\u001b[1;31m---------------------------------------------------------------------------\u001b[0m",
      "\u001b[1;31mNameError\u001b[0m                                 Traceback (most recent call last)",
      "\u001b[1;32m~\\AppData\\Local\\Temp/ipykernel_6860/255696012.py\u001b[0m in \u001b[0;36m<module>\u001b[1;34m\u001b[0m\n\u001b[0;32m      2\u001b[0m \u001b[0mprint\u001b[0m\u001b[1;33m(\u001b[0m\u001b[0mreadcombojacmatrix\u001b[0m\u001b[1;33m[\u001b[0m\u001b[1;36m24\u001b[0m\u001b[1;33m]\u001b[0m\u001b[1;33m)\u001b[0m\u001b[1;33m\u001b[0m\u001b[1;33m\u001b[0m\u001b[0m\n\u001b[0;32m      3\u001b[0m \u001b[1;31m#Highest Pearson correlation coefficient of human evaluated MC and jaccard sim-based evaluation (Task 3)\u001b[0m\u001b[1;33m\u001b[0m\u001b[1;33m\u001b[0m\u001b[1;33m\u001b[0m\u001b[0m\n\u001b[1;32m----> 4\u001b[1;33m \u001b[0mprint\u001b[0m\u001b[1;33m(\u001b[0m\u001b[0mnp\u001b[0m\u001b[1;33m.\u001b[0m\u001b[0mcorrcoef\u001b[0m\u001b[1;33m(\u001b[0m\u001b[0mreadcombojacmatrix\u001b[0m\u001b[1;33m[\u001b[0m\u001b[1;36m21\u001b[0m\u001b[1;33m]\u001b[0m\u001b[1;33m,\u001b[0m\u001b[0msims\u001b[0m\u001b[1;33m)\u001b[0m\u001b[1;33m)\u001b[0m\u001b[1;33m\u001b[0m\u001b[1;33m\u001b[0m\u001b[0m\n\u001b[0m\u001b[0;32m      5\u001b[0m \u001b[1;31m#Jaccard of sentence 1,2 with task 4 parameters added.\u001b[0m\u001b[1;33m\u001b[0m\u001b[1;33m\u001b[0m\u001b[1;33m\u001b[0m\u001b[0m\n\u001b[0;32m      6\u001b[0m \u001b[0mjaccard_sim\u001b[0m\u001b[1;33m(\u001b[0m\u001b[0msentence1\u001b[0m\u001b[1;33m,\u001b[0m\u001b[0msentence2\u001b[0m\u001b[1;33m)\u001b[0m\u001b[1;33m\u001b[0m\u001b[1;33m\u001b[0m\u001b[0m\n",
      "\u001b[1;31mNameError\u001b[0m: name 'sims' is not defined"
     ]
    }
   ],
   "source": [
    "print(readcombojacmatrix[1])\n",
    "print(readcombojacmatrix[24])\n",
    "#Highest Pearson correlation coefficient of human evaluated MC and jaccard sim-based evaluation (Task 3)\n",
    "print(np.corrcoef(readcombojacmatrix[21],sims))\n",
    "#Jaccard of sentence 1,2 with task 4 parameters added.\n",
    "jaccard_sim(sentence1,sentence2)"
   ]
  },
  {
   "cell_type": "markdown",
   "id": "de2d72a4-12c9-4c8b-b85f-e43e61fe3002",
   "metadata": {},
   "source": [
    "5.\tWe want to test this strategy on publicly available sentence database. For this purpose, use STSS-131 dataset, available in “A new benchmark dataset with production methodology for short text semantic similarity algorithms” by O’Shea, Bandar and Crockett (ACM Trans. on Speech and Language Processing, 10, 2013). Use Pearson correlation coefficient to test the correlation with the provided human judgment. "
   ]
  },
  {
   "cell_type": "markdown",
   "id": "3c3c5089-77b2-40e0-aa98-8f3f893d26d7",
   "metadata": {},
   "source": [
    "STSS FOUND IN FILE STSS-131\n",
    "QNumber;Sentence1;Sentence2;Human Eval of semantic similarity(0-4);Stdev of Similarity(noisiness)"
   ]
  },
  {
   "cell_type": "code",
   "execution_count": 15,
   "id": "23a9c813-d821-43fc-966c-68893aead65a",
   "metadata": {},
   "outputs": [],
   "source": [
    "#READ SENTENCES FROM STSS-131\n",
    "stsslist = [[],[],[]]\n",
    "with open('STSS-131.csv') as f:\n",
    "    reader = csv.reader(f,delimiter = ';')\n",
    "    for i in reader:\n",
    "        stsslist[0].append(list(np.unique((i[1].split()))))\n",
    "        stsslist[1].append(list(np.unique((i[2].split()))))\n",
    "        stsslist[2].append(float(i[3])/4)"
   ]
  },
  {
   "cell_type": "code",
   "execution_count": 25,
   "id": "28232953-eb7e-4e34-8509-c45e3c10793a",
   "metadata": {},
   "outputs": [
    {
     "name": "stdout",
     "output_type": "stream",
     "text": [
      "0.15\n"
     ]
    }
   ],
   "source": [
    "print(jaccard_sim(stsslist[0][0],stsslist[1][0]))"
   ]
  },
  {
   "cell_type": "code",
   "execution_count": 33,
   "id": "af08ba1f-49b6-4b77-ae4b-0e7d749495aa",
   "metadata": {},
   "outputs": [
    {
     "name": "stdout",
     "output_type": "stream",
     "text": [
      "['Would', 'drink', 'go', 'like', 'me', 'out', 'to', 'tonight?', 'with', 'you']\n"
     ]
    }
   ],
   "source": [
    "print(stsslist[0][0])"
   ]
  },
  {
   "cell_type": "code",
   "execution_count": 27,
   "id": "5c156a35-72b9-4009-b989-a92436e5c6ff",
   "metadata": {},
   "outputs": [
    {
     "name": "stdout",
     "output_type": "stream",
     "text": [
      "[[], ['capo', 'did', 'donned', 'donning', 'juan', 'not', 'rostov', 'wear', 'giovanni', 'grandee', 'shall', 'sport', 'that', 'these', 'think', 'tutor', 'would', 'assume', 'azov', 'charles', 'dom'], ['consume', 'feed', 'deplete', 'corrode', 'wipe out', 'run through', 'exhaust', 'rust', 'eat on', 'eat up', 'use up', 'devour', 'dine', 'cook', 'meal', 'chew', 'chow', 'snack', 'drink', 'gobble', 'meals'], ['get', 'move', 'proceed', 'run', 'turn', 'start', 'live', 'work', 'pass', 'travel', 'operate', 'die', 'extend', 'depart', 'survive', 'belong', 'break', 'fit', 'endure', 'fail', 'fling'], ['recognize', 'acknowledge', 'love', 'cognize', 'screw', 'live', 'eff', 'hump', 'experience', 'bang', 'bonk', 'sleep with', 'jazz', 'have sex', 'bed', 'make love', 'make out', 'be intimate', 'do it', 'get it on', 'get laid'], ['could', 'can', 'mightiness', 'power', 'possibly', 'perhaps', 'probably', 'ought', 'maybe', 'likely', 'potentially', 'possible', 'possibility', 'gonna', 'potential', 'likelihood', 'been', 'probable', 'probability', 'risk', 'potency'], ['down', 'away', 'unconscious', 'stunned', 'dead', 'unsuccessful', 'impossible', 'extinguished', 'forbidden', 'unstylish', 'retired', 'outer', 'quenched', 'unfashionable', 'extinct', 'taboo', 'proscribed', 'kayoed', 'prohibited', 'impermissible', 'exterior'], ['very', 'actually', 'truly', 'genuinely', 'real', 'rattling', 'forsooth', 'in truth', 'obviously', 'definitely', 'pretty', 'just', 'certainly', 'yeah', 'frankly', 'honestly', 'quite', 'awfully', 'terribly', 'what', 'incredibly'], ['then', 'indeed', 'thus', 'true', 'thusly', 'and then', 'truthful', 'sol', 'systematic', 'in order', 'soh', 'and so', 'called', 'peng', 'doun', 'ever', 'quite', 'sorry', 'about', 'absolutely', 'accordingly'], [], ['mous', 'poi', 'cough', 'eap', 'coughs', 'team', 'css', 'eaps', 'efp', 'eip', 'emap', 'giglio', 'mou', 'pae', 'pef', 'tcs', 'offices', 'specialists'], ['this evening', 'this night', 'night', 'evening', 'today', 'afternoon', 'wednesdays', 'dinner', 'sundown', 'nightfall', 'now', 'parade', 'overnight', 'late', 'dark', 'later', 'nuit', 'soir', 'nowadays', 'pill', 'tomorrow'], ['something', 'why', 'everything', 'really', 'anything', 'whatever', 'happened', 'guess', 'happens', 'hell', 'whoever', 'say', 'yeah', 'hey', 'huh', 'only', 'does', 'nature', 'wait', 'hmm', 'wha']]\n",
      "13\n",
      "[set() {'quite'} {'live'} {'yeah'}]\n"
     ]
    }
   ],
   "source": [
    "sentencerep = (sentencerepwithoverlap(stsslist[1][0],21))\n",
    "print(sentencerep)\n",
    "print(pairwiseintersect(sentencerep))"
   ]
  },
  {
   "cell_type": "code",
   "execution_count": 160,
   "id": "6dfaea1d-ed80-4786-9a6b-f41b17b8620c",
   "metadata": {},
   "outputs": [
    {
     "name": "stdout",
     "output_type": "stream",
     "text": [
      "10\n",
      "13\n",
      "[{'wish'} {'all'} {'die'} {'this'} {'start'}]\n",
      "[{'quite'} {'live'} {'yeah'}]\n",
      "13\n",
      "10\n",
      "[{'try'} {'something', 'anything'} {'really'} {'deal'}]\n",
      "[{'consider'} {'now', 'let'} {'about'} {'need', 'have'} {'involve'}\n",
      " {'try'} {'let'} {'needs', 'wanna', 'let', 'ought', 'gotta'}]\n",
      "16\n",
      "11\n",
      "[{'just'} {'way'}]\n",
      "[{'wanna'}\n",
      " {'first', 'west', 'way', 'world', 'background', 'lord', 'revised', 'word', 'proposed', 'red', 'will', 'sacred', 'road', 'wind', 'need', 'editor', 'end', 'third', 'collected', 'second', 'recommended'}]\n",
      "12\n",
      "9\n",
      "[{'execute', 'cause', 'come', 'perform', 'get along', 'dress', 'suffice', 'make', 'practice', 'fare', 'exercise', 'answer', 'practise', 'serve', 'ut', 'arrange', 'manage', 'behave', 'bash', 'act', 'set'}\n",
      " {'try'} {'serve'} {'even', 'bit', 'little'}]\n",
      "[{'let'} {'see'}]\n",
      "14\n",
      "11\n",
      "[{'will'} {'all'} {'probably'} {'now'} {'all'} {'wanna'} {'know'} {'all'}\n",
      " {'wanna'} {'need'} {'needs', 'wanna', 'let', 'ought', 'gotta'} {'should'}\n",
      " {'would'} {'sure'}]\n",
      "[{'need'} {'background'} {'expected', 'let'} {'wanna'}]\n",
      "11\n",
      "10\n",
      "[{'just'} {'now'} {'know'}]\n",
      "[{'separate'} {'say'} {'know'} {'now', 'let'} {'try'}]\n",
      "8\n",
      "13\n",
      "[{'yeah'} {'really'}]\n",
      "[{'huh', 'really'} {'without'} {'stop'} {'really'} {'only'}\n",
      " {'hey', 'only', 'yeah', 'really'} {'none'} {'everything'} {'only', 'yes'}\n",
      " {'just'}]\n",
      "11\n",
      "16\n",
      "[{'need'} {'will'} {'can'} {'fare', 'get along'}]\n",
      "[{'wish'} {'doing'} {'really'} {'expected'} {'now'} {'this'} {'let'}\n",
      " {'gonna', 'wanna'} {'all'}]\n",
      "12\n",
      "17\n",
      "[{'consider'} {'operative'} {'would', 'wanna'} {'even'} {'come'} {'each'}]\n",
      "[{'die'} {'deal'} {'need'} {'let'} {'all'} {'everything'}\n",
      " {'second', 'end'} {'first'} {'added'}]\n",
      "10\n",
      "18\n",
      "[{'first', 'west', 'way', 'world', 'background', 'lord', 'revised', 'word', 'proposed', 'red', 'will', 'sacred', 'road', 'wind', 'need', 'editor', 'end', 'third', 'collected', 'second', 'recommended'}]\n",
      "[{'that', 'not'} {'all'} {'just'}\n",
      " {'first', 'west', 'way', 'world', 'background', 'lord', 'revised', 'word', 'proposed', 'red', 'will', 'sacred', 'road', 'wind', 'need', 'editor', 'end', 'third', 'collected', 'second', 'recommended'}\n",
      " {'did'} {'think'} {'equal'} {'does'}]\n",
      "15\n",
      "12\n",
      "[{'just'} {'even'}\n",
      " {'purposes', 'rhenium', 'subject', 'subject-matter', 'appointment', 'scope', 'object', 'purpose', 'election', 'they', 'note', 'gonna', 'opening', 'sunbeam', 'establishment', 'action', 'serrate', 'about', 'ray', 'objective', 'aim'}]\n",
      "[]\n",
      "13\n",
      "13\n",
      "[{'need'}\n",
      " {'first', 'west', 'way', 'world', 'background', 'lord', 'revised', 'word', 'proposed', 'red', 'will', 'sacred', 'road', 'wind', 'need', 'editor', 'end', 'third', 'collected', 'second', 'recommended'}]\n",
      "[{'actually', 'really'} {'nothing'} {'him'} {'this'} {'now', 'fact'}\n",
      " {'girl'} {'see'}]\n",
      "15\n",
      "16\n",
      "[{'urged'} {'own'} {'multitude'} {'need', 'let', 'must'} {'about'}]\n",
      "[{'children'} {'amount', 'list'} {'multitude'}\n",
      " {'equally', 'every bit', 'electricity', 'leong', 'arsenic', 'atomic number 33', 'spain'}]\n",
      "14\n",
      "11\n",
      "[{'way'} {'sorry'}]\n",
      "[{'her'}]\n",
      "13\n",
      "11\n",
      "[{'just'} {'how'} {'fare', 'get along'} {'everybody'}]\n",
      "[{'soothing', 'cozy', 'roomy', 'cushiony', 'convenient', 'homy', 'handsome', 'cosy', 'comforting', 'beautiful', 'uneasy', 'homely', 'easy', 'homey', 'uncomfortable', 'comfortable', 'agreeable', 'spacious', 'snug', 'cushy', 'homelike'}]\n",
      "12\n",
      "19\n",
      "[{'all'}]\n",
      "[{'now'} {'all'} {'now'} {'see'} {'are', 'present'} {'see'}\n",
      " {'sure', 'see'}]\n",
      "9\n",
      "6\n",
      "[{'beyond', 'below'} {'because', 'besides'} {'think'}]\n",
      "[{'beyond', 'below'}]\n",
      "16\n",
      "13\n",
      "[{'even'} {'own'} {'really'} {'all', 'ever', 'everything'} {'very'}\n",
      " {'everything'} {'everything', 'god'}]\n",
      "[{'really'} {'hero'}]\n",
      "16\n",
      "12\n",
      "[{'everything'} {'suggests'} {'deal'} {'kind', 'sort'} {'did'} {'think'}\n",
      " {'does'} {'die'} {'deal'} {'have'} {'deal', 'come'} {'get'} {'dear'}\n",
      " {'eye'}]\n",
      "[{'die'}]\n",
      "9\n",
      "9\n",
      "[]\n",
      "[{'person'} {'office'}\n",
      " {'equally', 'every bit', 'electricity', 'leong', 'arsenic', 'atomic number 33', 'spain'}]\n",
      "15\n",
      "13\n",
      "[{'here', 'yeah', 'however'} {'way'} {'right'} {'everything'} {'right'}]\n",
      "[{'maybe', 'perhaps', 'often'} {'get'} {'may'} {'get'}]\n",
      "11\n",
      "13\n",
      "[{'celsius'}]\n",
      "[{'cold'} {'101', 'c'} {'fever'}\n",
      " {'first', 'west', 'way', 'world', 'background', 'lord', 'revised', 'word', 'proposed', 'red', 'will', 'sacred', 'road', 'wind', 'need', 'editor', 'end', 'third', 'collected', 'second', 'recommended'}]\n",
      "13\n",
      "12\n",
      "[{'right'} {'without'}]\n",
      "[{'really'} {'sign'} {'once', 'anyway', 'still'}]\n",
      "14\n",
      "13\n",
      "[{'particular', 'whose', 'ses', 'thereof'}\n",
      " {'equally', 'every bit', 'electricity', 'leong', 'arsenic', 'atomic number 33', 'spain'}]\n",
      "[{'girl', 'daughter'} {'world'} {'bride'}\n",
      " {'first', 'west', 'way', 'world', 'background', 'lord', 'revised', 'word', 'proposed', 'red', 'will', 'sacred', 'road', 'wind', 'need', 'editor', 'end', 'third', 'collected', 'second', 'recommended'}]\n",
      "14\n",
      "18\n",
      "[{'indeed'}]\n",
      "[{'rise', 'mounting', 'climber', 'ascent'}\n",
      " {'equally', 'every bit', 'electricity', 'leong', 'arsenic', 'atomic number 33', 'spain'}]\n",
      "13\n",
      "12\n",
      "[{'deal'} {'above', 'both'} {'about'} {'fortunate'} {'dear'}]\n",
      "[{'imagined'} {'but'} {'alone'} {'deal'} {'one'} {'believe'} {'all'}]\n",
      "10\n",
      "15\n",
      "[{'first'} {'better'} {'longer'} {'need'}]\n",
      "[{'whereas'} {'children'} {'cause'} {'person'}\n",
      " {'only', 'simply', 'merely'} {'maturity', 'mature'} {'children'}]\n",
      "15\n",
      "13\n",
      "[{'way'} {'want'} {'have'} {'stove'}]\n",
      "[]\n",
      "15\n",
      "15\n",
      "[{'children'} {'tool'} {'such'} {'extremely'} {'what'}]\n",
      "[{'this'} {'yet', 'just', 'still'} {'right'}\n",
      " {'indeed', 'nonetheless', 'anyway'}]\n",
      "12\n",
      "11\n",
      "[]\n",
      "[{'because', 'after'}]\n",
      "14\n",
      "14\n",
      "[{'how'} {'here', 'nowadays'} {'right'} {'wet'} {'right'}\n",
      " {'yet', 'just', 'still'}\n",
      " {'earlier', 'prior', 'let', 'anyone', 'are', 'situation', 'anybody', 'right', 'fung', 'huh', 'someone', 'before', 'was', 'true', 'because', 'should', 'really', 'man', 'besides', 'somebody', 'alone'}\n",
      " {'now', 'this'}]\n",
      "[{'way'} {'sodden'} {'way'} {'over'} {'end'} {'everything'} {'late'}\n",
      " {'way'} {'lowest'}]\n",
      "8\n",
      "16\n",
      "[{'everything', 'anything'}]\n",
      "[{'first', 'west', 'way', 'world', 'background', 'lord', 'revised', 'word', 'proposed', 'red', 'will', 'sacred', 'road', 'wind', 'need', 'editor', 'end', 'third', 'collected', 'second', 'recommended'}\n",
      " {'headache'} {'international', 'planetary', 'globe', 'worldwide'}\n",
      " {'world'} {'earth'}]\n",
      "10\n",
      "11\n",
      "[{'this'} {'need'} {'background'}]\n",
      "[{'him'}]\n",
      "9\n",
      "9\n",
      "[{'mid'} {'back'} {'second'} {'midnight', 'noon'}]\n",
      "[{'hours', 'hour'} {'second'} {'midday', 'midnight'}]\n",
      "13\n",
      "9\n",
      "[{'really'} {'just'}]\n",
      "[{'let'}]\n",
      "9\n",
      "10\n",
      "[{'crashes', 'crash'}]\n",
      "[{'girl', 'sign', 'prove', 'showtime', 'abet', 'wrap', 'abc', 'apparel', 'try', 'scam', 'fad', 'aberdeen', 'deal', 'abcs', 'gift', 'magic', 'law', 'trap', 'alive', 'about', 'date'}]\n",
      "11\n",
      "13\n",
      "[{'before', 'prior'} {'later', 'then', 'subsequently'}]\n",
      "[{'then', 'subsequently'} {'need'} {'end'} {'despite'}]\n",
      "14\n",
      "14\n",
      "[{'way'}]\n",
      "[{'first', 'west', 'way', 'world', 'background', 'lord', 'revised', 'word', 'proposed', 'red', 'will', 'sacred', 'road', 'wind', 'need', 'editor', 'end', 'third', 'collected', 'second', 'recommended'}\n",
      " {'cause', 'make'} {'need'} {'way'} {'need'} {'way'}]\n",
      "12\n",
      "13\n",
      "[{'reversed'}]\n",
      "[{'make'}\n",
      " {'girl', 'sign', 'prove', 'showtime', 'abet', 'wrap', 'abc', 'apparel', 'try', 'scam', 'fad', 'aberdeen', 'deal', 'abcs', 'gift', 'magic', 'law', 'trap', 'alive', 'about', 'date'}\n",
      " {'first'}]\n",
      "9\n",
      "12\n",
      "[{'nearly', 'all but', 'almost', 'near', 'virtually', 'well-nigh', 'nigh', 'just about'}\n",
      " {'actually', 'really'} {'just'} {'only'}]\n",
      "[{'sign'}]\n",
      "12\n",
      "14\n",
      "[{'sign'}]\n",
      "[{'come'} {'trying'} {'thought'} {'what'} {'gonna', 'gotta'}]\n",
      "11\n",
      "13\n",
      "[]\n",
      "[{'second'}]\n",
      "14\n",
      "11\n",
      "[{'even'} {'such'} {'can', 'potentially'} {'all'} {'that', 'not', 'would'}]\n",
      "[{'skills', 'capabilities'}]\n",
      "17\n",
      "10\n",
      "[{'buy'} {'her', 'himself'} {'this'} {'not'} {'was', 'man'}\n",
      " {'because', 'was', 'man'}\n",
      " {'yet', 'nonetheless', 'even', 'however', 'nevertheless'} {'only'}\n",
      " {'proved'} {'deal', 'gift'} {'should'} {'him'} {'this', 'was', 'man'}\n",
      " {'did'} {'this', 'that'}]\n",
      "[{'only', 'simply', 'merely'} {'this'} {'this', 'that'} {'did'}\n",
      " {'this', 'was', 'man'}]\n",
      "14\n",
      "14\n",
      "[{'date'} {'enjoyment'} {'deal'} {'end'} {'current'} {'try'}]\n",
      "[{'enjoyed'}]\n",
      "10\n",
      "13\n",
      "[{'states'}\n",
      " {'kids', 'such', 'ces', 'let', 'him', 'ils', 'departments', 'rwc', 'members', 'people', 'everybody', 'parties', 'how', 'ministers', 'states', 'counsel', 'women', 'children', 'les', 'canadians', 'theirs'}]\n",
      "[{'think'} {'same'}]\n",
      "11\n",
      "12\n",
      "[{'let'} {'need'} {'receive', 'make', 'take', 'let'} {'west'}\n",
      " {'furthermost', 'outlying'} {'get'} {'let'} {'motor'}]\n",
      "[{'blow'} {'need'} {'expected'} {'first', 'second'} {'later'} {'deal'}\n",
      " {'die'}]\n",
      "12\n",
      "12\n",
      "[{'girl', 'him'} {'now'} {'knows'} {'around'} {'there', 'where'}]\n",
      "[{'because', 'after'} {'cause', 'make'} {'experience'}]\n",
      "15\n",
      "14\n",
      "[{'either'} {'run', 'operate'} {'belong'} {'accept'} {'get'} {'ass'}\n",
      " {'equally', 'every bit', 'electricity', 'leong', 'arsenic', 'atomic number 33', 'spain'}\n",
      " {'get'}]\n",
      "[{'get'}]\n",
      "15\n",
      "12\n",
      "[{'was', 'had'} {'world'} {'second'}\n",
      " {'first', 'west', 'way', 'world', 'background', 'lord', 'revised', 'word', 'proposed', 'red', 'will', 'sacred', 'road', 'wind', 'need', 'editor', 'end', 'third', 'collected', 'second', 'recommended'}\n",
      " {'culpable'} {'world'} {'second'}]\n",
      "[{'yet', 'anyway', 'still'} {'tiresome'} {'how'}\n",
      " {'wheel', 'vehicle', 'car'}]\n",
      "10\n",
      "14\n",
      "[{'have'} {'make'}]\n",
      "[{'simply', 'but', 'merely'} {'one'} {'have'}\n",
      " {'draw', 'take', 'have', 'fix', 'produce'}]\n",
      "12\n",
      "12\n",
      "[{'died'} {'battle'} {'first'} {'without'}]\n",
      "[{'without'}]\n",
      "14\n",
      "10\n",
      "[{'first', 'west', 'way', 'world', 'background', 'lord', 'revised', 'word', 'proposed', 'red', 'will', 'sacred', 'road', 'wind', 'need', 'editor', 'end', 'third', 'collected', 'second', 'recommended'}\n",
      " {'this'} {'second'}]\n",
      "[{'first', 'west', 'way', 'world', 'background', 'lord', 'revised', 'word', 'proposed', 'red', 'will', 'sacred', 'road', 'wind', 'need', 'editor', 'end', 'third', 'collected', 'second', 'recommended'}]\n",
      "12\n",
      "14\n",
      "[{'way', 'her', 'hero', 'lai', 'own', 'god', 'everything', 'knowledge', 'dear', 'have', 'darling', 'boy', 'afflicted', 'rady', 'eye', 'goodness', 'guest', 'month', 'cue', 'barrow', 'treat'}]\n",
      "[{'first'} {'red'} {'colored'} {'chromatic', 'colored'}\n",
      " {'coloured', 'colored'}]\n",
      "10\n",
      "9\n",
      "[{'beverage', 'booze'} {'try'} {'this'} {'know', 'just'} {'wish'} {'far'}]\n",
      "[{'drink'} {'bottle'} {'beverage', 'booze'}]\n",
      "14\n",
      "12\n",
      "[{'first'} {'red'} {'colored'} {'chromatic', 'colored'}\n",
      " {'coloured', 'colored'}]\n",
      "[{'chromatic', 'colored', 'red'} {'number'} {'colored'}]\n",
      "11\n",
      "11\n",
      "[{'get'}]\n",
      "[{'let'} {'have'}]\n",
      "13\n",
      "14\n",
      "[{'wanna'} {'leap', 'bounce'} {'way'} {'how'}]\n",
      "[{'start'} {'can'} {'have'}]\n",
      "11\n",
      "14\n",
      "[{'see'} {'take'}]\n",
      "[{'let'} {'need', 'give', 'let'} {'consider'} {'before', 'let'}\n",
      " {'anything', 'let'} {'fung'} {'let'} {'right', 'let'} {'take'} {'let'}\n",
      " {'did'} {'think'}]\n",
      "10\n",
      "17\n",
      "[{'first', 'west', 'way', 'world', 'background', 'lord', 'revised', 'word', 'proposed', 'red', 'will', 'sacred', 'road', 'wind', 'need', 'editor', 'end', 'third', 'collected', 'second', 'recommended'}]\n",
      "[{'number'} {'world'} {'all'} {'now', 'all'} {'all', 'certain'}\n",
      " {'some', 'all'} {'need'} {'though'} {'all', 'various', 'other'}\n",
      " {'those', 'all'} {'all', 'one'}\n",
      " {'tso', 'fso', 'bsf', 'fos', 'tsos', 'osb', 'office'} {'they', 'all'}\n",
      " {'these', 'all'} {'think'}]\n",
      "10\n",
      "10\n",
      "[{'first', 'west', 'way', 'world', 'background', 'lord', 'revised', 'word', 'proposed', 'red', 'will', 'sacred', 'road', 'wind', 'need', 'editor', 'end', 'third', 'collected', 'second', 'recommended'}]\n",
      "[{'slightly', 'marginally'} {'she'}\n",
      " {'first', 'west', 'way', 'world', 'background', 'lord', 'revised', 'word', 'proposed', 'red', 'will', 'sacred', 'road', 'wind', 'need', 'editor', 'end', 'third', 'collected', 'second', 'recommended'}\n",
      " {'little'}]\n",
      "10\n",
      "14\n",
      "[{'earlier', 'prior', 'let', 'anyone', 'are', 'situation', 'anybody', 'right', 'fung', 'huh', 'someone', 'before', 'was', 'true', 'because', 'should', 'really', 'man', 'besides', 'somebody', 'alone'}\n",
      " {'came', 'appeared', 'went', 'saw', 'looked', 'got'}\n",
      " {'usually', 'sometimes', 'generally', 'traditionally', 'invariably'}]\n",
      "[{'need'} {'way'} {'sort'} {'got', 'saw'} {'everything'} {'how'}]\n",
      "14\n",
      "10\n",
      "[{'let'} {'let', 'anything', 'however'} {'even'} {'assuming'}\n",
      " {'everything'} {'actually', 'really'} {'aim'}]\n",
      "[{'one'} {'but'}\n",
      " {'first', 'west', 'way', 'world', 'background', 'lord', 'revised', 'word', 'proposed', 'red', 'will', 'sacred', 'road', 'wind', 'need', 'editor', 'end', 'third', 'collected', 'second', 'recommended'}\n",
      " {'hard'}]\n",
      "16\n",
      "16\n",
      "[{'river', 'sea'} {'creek', 'water', 'basin'}\n",
      " {'seashore', 'land', 'beach', 'set ashore', 'waterfront', 'coastal', 'river', 'coasts', 'shoreline', 'coast'}\n",
      " {'onshore'}\n",
      " {'first', 'west', 'way', 'world', 'background', 'lord', 'revised', 'word', 'proposed', 'red', 'will', 'sacred', 'road', 'wind', 'need', 'editor', 'end', 'third', 'collected', 'second', 'recommended'}\n",
      " {'offshore', 'coast'} {'shoreline'} {'riverbank', 'shoreline'} {'waters'}\n",
      " {'coast'} {'river'}]\n",
      "[{'will', 'way'} {'need'} {'printed'} {'handwritten'}\n",
      " {'sign', 'signing', 'signed'} {'one'} {'autograph'}]\n",
      "10\n",
      "8\n",
      "[{'date'}]\n",
      "[{'first', 'west', 'way', 'world', 'background', 'lord', 'revised', 'word', 'proposed', 'red', 'will', 'sacred', 'road', 'wind', 'need', 'editor', 'end', 'third', 'collected', 'second', 'recommended'}]\n",
      "11\n",
      "9\n",
      "[]\n",
      "[{'even'} {'dinner'} {'even'}]\n"
     ]
    }
   ],
   "source": [
    "sentencereplist = [[],[]]\n",
    "for i in range(len(stsslist[0])):\n",
    "    sentencerep1 = sentencerepwithoverlap(stsslist[0][i],21)\n",
    "    sentencerep2 = sentencerepwithoverlap(stsslist[1][i],21)\n",
    "    intersect1 = pairwiseintersect(sentencerep1)\n",
    "    intersect2 = pairwiseintersect(sentencerep2)\n",
    "    if intersect1[0] == set():\n",
    "        intersect1 = intersect1[1:]\n",
    "    if intersect2[0] == set():\n",
    "        intersect2 = intersect2[1:]\n",
    "    sentencereplist[0].append(intersect1)\n",
    "    sentencereplist[1].append(intersect2)\n",
    "    print(intersect1)\n",
    "    print(intersect2)"
   ]
  },
  {
   "cell_type": "code",
   "execution_count": 341,
   "id": "f8479abc-301b-4c45-9f28-66445ff4bfa8",
   "metadata": {},
   "outputs": [],
   "source": [
    "test = [[],[]]\n",
    "for i in range(len(sentencereplist[0])):\n",
    "        test[0].append([list(j) for j in (sentencereplist[0][i])])\n",
    "for i in range(len(sentencereplist[1])):\n",
    "        test[1].append([list(j) for j in (sentencereplist[1][i])])"
   ]
  },
  {
   "cell_type": "code",
   "execution_count": 462,
   "id": "3f3cbad3-1122-43dc-aa9a-7b8fd79f5c39",
   "metadata": {},
   "outputs": [],
   "source": [
    "\n",
    "finalsentencerep1 = [[] * 1 for i in range(len(test[0]))]\n",
    "finalsentencerep2 = [[] * 1 for i in range(len(test[0]))]\n",
    "for i in range(len(test[0])):\n",
    "    for j in range(len(test[0][i])):\n",
    "        for k in test[0][i][j]:\n",
    "            finalsentencerep1[i].append(k)\n",
    "for i in range(len(test[1])):\n",
    "    for j in range(len(test[1][i])):\n",
    "        for k in test[1][i][j]:\n",
    "            finalsentencerep2[i].append(k)"
   ]
  },
  {
   "cell_type": "code",
   "execution_count": 465,
   "id": "f45d8ecb-e53f-48ff-a0fb-86e397d95e90",
   "metadata": {},
   "outputs": [
    {
     "name": "stdout",
     "output_type": "stream",
     "text": [
      "[['quite', 'live', 'yeah'], ['consider', 'now', 'let', 'about', 'need', 'have', 'involve', 'try', 'let', 'needs', 'wanna', 'let', 'ought', 'gotta'], ['wanna', 'first', 'west', 'way', 'world', 'background', 'lord', 'revised', 'word', 'proposed', 'red', 'will', 'sacred', 'road', 'wind', 'need', 'editor', 'end', 'third', 'collected', 'second', 'recommended'], ['let', 'see'], ['need', 'background', 'expected', 'let', 'wanna'], ['separate', 'say', 'know', 'now', 'let', 'try'], ['huh', 'really', 'without', 'stop', 'really', 'only', 'hey', 'only', 'yeah', 'really', 'none', 'everything', 'only', 'yes', 'just'], ['wish', 'doing', 'really', 'expected', 'now', 'this', 'let', 'gonna', 'wanna', 'all'], ['die', 'deal', 'need', 'let', 'all', 'everything', 'second', 'end', 'first', 'added'], ['that', 'not', 'all', 'just', 'first', 'west', 'way', 'world', 'background', 'lord', 'revised', 'word', 'proposed', 'red', 'will', 'sacred', 'road', 'wind', 'need', 'editor', 'end', 'third', 'collected', 'second', 'recommended', 'did', 'think', 'equal', 'does'], [], ['actually', 'really', 'nothing', 'him', 'this', 'now', 'fact', 'girl', 'see'], ['children', 'amount', 'list', 'multitude', 'equally', 'every bit', 'electricity', 'leong', 'arsenic', 'atomic number 33', 'spain'], ['her'], ['soothing', 'cozy', 'roomy', 'cushiony', 'convenient', 'homy', 'handsome', 'cosy', 'comforting', 'beautiful', 'uneasy', 'homely', 'easy', 'homey', 'uncomfortable', 'comfortable', 'agreeable', 'spacious', 'snug', 'cushy', 'homelike'], ['now', 'all', 'now', 'see', 'are', 'present', 'see', 'sure', 'see'], ['beyond', 'below'], ['really', 'hero'], ['die'], ['person', 'office', 'equally', 'every bit', 'electricity', 'leong', 'arsenic', 'atomic number 33', 'spain'], ['maybe', 'perhaps', 'often', 'get', 'may', 'get'], ['cold', '101', 'c', 'fever', 'first', 'west', 'way', 'world', 'background', 'lord', 'revised', 'word', 'proposed', 'red', 'will', 'sacred', 'road', 'wind', 'need', 'editor', 'end', 'third', 'collected', 'second', 'recommended'], ['really', 'sign', 'once', 'anyway', 'still'], ['girl', 'daughter', 'world', 'bride', 'first', 'west', 'way', 'world', 'background', 'lord', 'revised', 'word', 'proposed', 'red', 'will', 'sacred', 'road', 'wind', 'need', 'editor', 'end', 'third', 'collected', 'second', 'recommended'], ['rise', 'mounting', 'climber', 'ascent', 'equally', 'every bit', 'electricity', 'leong', 'arsenic', 'atomic number 33', 'spain'], ['imagined', 'but', 'alone', 'deal', 'one', 'believe', 'all'], ['whereas', 'children', 'cause', 'person', 'only', 'simply', 'merely', 'maturity', 'mature', 'children'], [], ['this', 'yet', 'just', 'still', 'right', 'indeed', 'nonetheless', 'anyway'], ['because', 'after'], ['way', 'sodden', 'way', 'over', 'end', 'everything', 'late', 'way', 'lowest'], ['first', 'west', 'way', 'world', 'background', 'lord', 'revised', 'word', 'proposed', 'red', 'will', 'sacred', 'road', 'wind', 'need', 'editor', 'end', 'third', 'collected', 'second', 'recommended', 'headache', 'international', 'planetary', 'globe', 'worldwide', 'world', 'earth'], ['him'], ['hours', 'hour', 'second', 'midday', 'midnight'], ['let'], ['girl', 'sign', 'prove', 'showtime', 'abet', 'wrap', 'abc', 'apparel', 'try', 'scam', 'fad', 'aberdeen', 'deal', 'abcs', 'gift', 'magic', 'law', 'trap', 'alive', 'about', 'date'], ['then', 'subsequently', 'need', 'end', 'despite'], ['first', 'west', 'way', 'world', 'background', 'lord', 'revised', 'word', 'proposed', 'red', 'will', 'sacred', 'road', 'wind', 'need', 'editor', 'end', 'third', 'collected', 'second', 'recommended', 'cause', 'make', 'need', 'way', 'need', 'way'], ['make', 'girl', 'sign', 'prove', 'showtime', 'abet', 'wrap', 'abc', 'apparel', 'try', 'scam', 'fad', 'aberdeen', 'deal', 'abcs', 'gift', 'magic', 'law', 'trap', 'alive', 'about', 'date', 'first'], ['sign'], ['come', 'trying', 'thought', 'what', 'gonna', 'gotta'], ['second'], ['skills', 'capabilities'], ['only', 'simply', 'merely', 'this', 'this', 'that', 'did', 'this', 'was', 'man'], ['enjoyed'], ['think', 'same'], ['blow', 'need', 'expected', 'first', 'second', 'later', 'deal', 'die'], ['because', 'after', 'cause', 'make', 'experience'], ['get'], ['yet', 'anyway', 'still', 'tiresome', 'how', 'wheel', 'vehicle', 'car'], ['simply', 'but', 'merely', 'one', 'have', 'draw', 'take', 'have', 'fix', 'produce'], ['without'], ['first', 'west', 'way', 'world', 'background', 'lord', 'revised', 'word', 'proposed', 'red', 'will', 'sacred', 'road', 'wind', 'need', 'editor', 'end', 'third', 'collected', 'second', 'recommended'], ['first', 'red', 'colored', 'chromatic', 'colored', 'coloured', 'colored'], ['drink', 'bottle', 'beverage', 'booze'], ['chromatic', 'colored', 'red', 'number', 'colored'], ['let', 'have'], ['start', 'can', 'have'], ['let', 'need', 'give', 'let', 'consider', 'before', 'let', 'anything', 'let', 'fung', 'let', 'right', 'let', 'take', 'let', 'did', 'think'], ['number', 'world', 'all', 'now', 'all', 'all', 'certain', 'some', 'all', 'need', 'though', 'all', 'various', 'other', 'those', 'all', 'all', 'one', 'tso', 'fso', 'bsf', 'fos', 'tsos', 'osb', 'office', 'they', 'all', 'these', 'all', 'think'], ['slightly', 'marginally', 'she', 'first', 'west', 'way', 'world', 'background', 'lord', 'revised', 'word', 'proposed', 'red', 'will', 'sacred', 'road', 'wind', 'need', 'editor', 'end', 'third', 'collected', 'second', 'recommended', 'little'], ['need', 'way', 'sort', 'got', 'saw', 'everything', 'how'], ['one', 'but', 'first', 'west', 'way', 'world', 'background', 'lord', 'revised', 'word', 'proposed', 'red', 'will', 'sacred', 'road', 'wind', 'need', 'editor', 'end', 'third', 'collected', 'second', 'recommended', 'hard'], ['will', 'way', 'need', 'printed', 'handwritten', 'sign', 'signing', 'signed', 'one', 'autograph'], ['first', 'west', 'way', 'world', 'background', 'lord', 'revised', 'word', 'proposed', 'red', 'will', 'sacred', 'road', 'wind', 'need', 'editor', 'end', 'third', 'collected', 'second', 'recommended'], ['even', 'dinner', 'even']]\n"
     ]
    }
   ],
   "source": [
    "print(finalsentencerep2)"
   ]
  },
  {
   "cell_type": "code",
   "execution_count": 28,
   "id": "1eb7b761-cc31-41f6-84f6-1c9baefad3aa",
   "metadata": {},
   "outputs": [
    {
     "ename": "NameError",
     "evalue": "name 'finalsentencerep1' is not defined",
     "output_type": "error",
     "traceback": [
      "\u001b[1;31m---------------------------------------------------------------------------\u001b[0m",
      "\u001b[1;31mNameError\u001b[0m                                 Traceback (most recent call last)",
      "\u001b[1;32m~\\AppData\\Local\\Temp/ipykernel_6860/901206491.py\u001b[0m in \u001b[0;36m<module>\u001b[1;34m\u001b[0m\n\u001b[0;32m      1\u001b[0m \u001b[1;32mwith\u001b[0m \u001b[0mopen\u001b[0m\u001b[1;33m(\u001b[0m\u001b[1;34m'sentencerep1.csv'\u001b[0m\u001b[1;33m,\u001b[0m \u001b[1;34m'w'\u001b[0m\u001b[1;33m,\u001b[0m \u001b[0mnewline\u001b[0m\u001b[1;33m=\u001b[0m\u001b[1;34m''\u001b[0m\u001b[1;33m)\u001b[0m \u001b[1;32mas\u001b[0m \u001b[0mf\u001b[0m\u001b[1;33m:\u001b[0m\u001b[1;33m\u001b[0m\u001b[1;33m\u001b[0m\u001b[0m\n\u001b[0;32m      2\u001b[0m     \u001b[0mwriter\u001b[0m \u001b[1;33m=\u001b[0m \u001b[0mcsv\u001b[0m\u001b[1;33m.\u001b[0m\u001b[0mwriter\u001b[0m\u001b[1;33m(\u001b[0m\u001b[0mf\u001b[0m\u001b[1;33m,\u001b[0m \u001b[0mdelimiter\u001b[0m\u001b[1;33m=\u001b[0m\u001b[1;34m' '\u001b[0m\u001b[1;33m)\u001b[0m\u001b[1;33m\u001b[0m\u001b[1;33m\u001b[0m\u001b[0m\n\u001b[1;32m----> 3\u001b[1;33m     \u001b[1;32mfor\u001b[0m \u001b[0mi\u001b[0m \u001b[1;32min\u001b[0m \u001b[0mfinalsentencerep1\u001b[0m\u001b[1;33m:\u001b[0m\u001b[1;33m\u001b[0m\u001b[1;33m\u001b[0m\u001b[0m\n\u001b[0m\u001b[0;32m      4\u001b[0m         \u001b[0mwriter\u001b[0m\u001b[1;33m.\u001b[0m\u001b[0mwriterow\u001b[0m\u001b[1;33m(\u001b[0m\u001b[0mi\u001b[0m\u001b[1;33m)\u001b[0m\u001b[1;33m\u001b[0m\u001b[1;33m\u001b[0m\u001b[0m\n",
      "\u001b[1;31mNameError\u001b[0m: name 'finalsentencerep1' is not defined"
     ]
    }
   ],
   "source": [
    "with open('sentencerep1.csv', 'w', newline='') as f:\n",
    "    writer = csv.writer(f, delimiter=' ')\n",
    "    for i in finalsentencerep1:\n",
    "        writer.writerow(i)"
   ]
  },
  {
   "cell_type": "code",
   "execution_count": 495,
   "id": "fe72cf54-0e87-4a4b-9b81-3279206bd72b",
   "metadata": {},
   "outputs": [],
   "source": [
    "with open('sentencerep2.csv', 'w', newline='') as f:\n",
    "    writer = csv.writer(f, delimiter=' ')\n",
    "    for i in finalsentencerep2:\n",
    "        writer.writerow(i)"
   ]
  },
  {
   "cell_type": "code",
   "execution_count": 29,
   "id": "07201e95-f432-4acf-8752-4d046bb82d32",
   "metadata": {},
   "outputs": [],
   "source": [
    "readsentencerep1 = []\n",
    "with open('STSSsentencerep1.csv') as f:\n",
    "    reader = csv.reader(f,delimiter = ' ')\n",
    "    for i in reader:\n",
    "        readsentencerep1.append(i)"
   ]
  },
  {
   "cell_type": "code",
   "execution_count": 30,
   "id": "0231dc79-9b9f-495f-9501-41ee4e4f1122",
   "metadata": {},
   "outputs": [],
   "source": [
    "readsentencerep2 = []\n",
    "with open('STSSsentencerep2.csv') as f:\n",
    "    reader = csv.reader(f,delimiter = ' ')\n",
    "    for i in reader:\n",
    "        readsentencerep2.append(i)"
   ]
  },
  {
   "cell_type": "code",
   "execution_count": 31,
   "id": "a4dc82bd-1482-4075-8c00-65aab61264de",
   "metadata": {},
   "outputs": [
    {
     "ename": "NameError",
     "evalue": "name 'finalsentencerep1' is not defined",
     "output_type": "error",
     "traceback": [
      "\u001b[1;31m---------------------------------------------------------------------------\u001b[0m",
      "\u001b[1;31mNameError\u001b[0m                                 Traceback (most recent call last)",
      "\u001b[1;32m~\\AppData\\Local\\Temp/ipykernel_6860/163609098.py\u001b[0m in \u001b[0;36m<module>\u001b[1;34m\u001b[0m\n\u001b[1;32m----> 1\u001b[1;33m \u001b[0mprint\u001b[0m\u001b[1;33m(\u001b[0m\u001b[1;33m(\u001b[0m\u001b[0mreadsentencerep1\u001b[0m\u001b[1;33m)\u001b[0m\u001b[1;33m==\u001b[0m\u001b[0mfinalsentencerep1\u001b[0m\u001b[1;33m)\u001b[0m\u001b[1;33m\u001b[0m\u001b[1;33m\u001b[0m\u001b[0m\n\u001b[0m\u001b[0;32m      2\u001b[0m \u001b[0mprint\u001b[0m\u001b[1;33m(\u001b[0m\u001b[1;33m(\u001b[0m\u001b[0mreadsentencerep2\u001b[0m\u001b[1;33m)\u001b[0m\u001b[1;33m==\u001b[0m\u001b[0mfinalsentencerep2\u001b[0m\u001b[1;33m)\u001b[0m\u001b[1;33m\u001b[0m\u001b[1;33m\u001b[0m\u001b[0m\n",
      "\u001b[1;31mNameError\u001b[0m: name 'finalsentencerep1' is not defined"
     ]
    }
   ],
   "source": [
    "print((readsentencerep1)==finalsentencerep1)\n",
    "print((readsentencerep2)==finalsentencerep2)"
   ]
  },
  {
   "cell_type": "code",
   "execution_count": 57,
   "id": "682208c5-1202-4c53-8413-9c4bd207bd9d",
   "metadata": {},
   "outputs": [
    {
     "name": "stdout",
     "output_type": "stream",
     "text": [
      "66\n",
      "66\n"
     ]
    }
   ],
   "source": [
    "print(len(stsslist[0]))\n",
    "print(len(readsentencerep2))"
   ]
  },
  {
   "cell_type": "code",
   "execution_count": 58,
   "id": "77cc5917-8b12-4449-bdea-b0fe8e7ceaaa",
   "metadata": {},
   "outputs": [],
   "source": [
    "#ADDS SENTENCE REPRESENTATIONS TO STSSLIST\n",
    "for i in range(len(stsslist[0])):\n",
    "    stsslist[0][i]+=readsentencerep1[i]\n",
    "    stsslist[1][i]+=readsentencerep2[i]"
   ]
  },
  {
   "cell_type": "code",
   "execution_count": 61,
   "id": "3e85e2d8-0bfe-4159-9bc8-d292bd16c170",
   "metadata": {},
   "outputs": [],
   "source": [
    "#STORES JACCARD SIMS OF COMPLETE SENTENCE REPRESENTATIONS IN STSS\n",
    "stssrepjaccard = []\n",
    "for i in range(len(stsslist[0])):\n",
    "    stssrepjaccard.append(jaccard_sim(stsslist[0][i],stsslist[1][i]))"
   ]
  },
  {
   "cell_type": "code",
   "execution_count": 67,
   "id": "04e872a9-dc6b-4e39-ae0e-bf0a8043568a",
   "metadata": {},
   "outputs": [
    {
     "name": "stdout",
     "output_type": "stream",
     "text": [
      "[0.10714285714285714, 0.07692307692307693, 0.0851063829787234, 0.06521739130434782, 0.17073170731707318, 0.30434782608695654, 0.15151515151515152, 0.05, 0.0, 0.4444444444444444, 0.16279069767441862, 0.017857142857142856, 0.13953488372093023, 0.21739130434782608, 0.041666666666666664, 0.17142857142857143, 0.29411764705882354, 0.3225806451612903, 0.07142857142857142, 0.08, 0.025, 0.02040816326530612, 0.03225806451612903, 0.05, 0.1282051282051282, 0.11764705882352941, 0.0, 0.14285714285714285, 0.023809523809523808, 0.08695652173913043, 0.045454545454545456, 0.038461538461538464, 0.041666666666666664, 0.5555555555555556, 0.08695652173913043, 0.10526315789473684, 0.1724137931034483, 0.3333333333333333, 0.0425531914893617, 0.0, 0.03125, 0.3157894736842105, 0.06060606060606061, 0.18518518518518517, 0.09375, 0.021739130434782608, 0.13157894736842105, 0.2, 0.21621621621621623, 0.0, 0.2, 0.11538461538461539, 0.5111111111111111, 0.058823529411764705, 0.19230769230769232, 0.1875, 0.041666666666666664, 0.20689655172413793, 0.047619047619047616, 0.0684931506849315, 0.5714285714285714, 0.08620689655172414, 0.0, 0.0875, 0.0, 0.09523809523809523]\n",
      "['I', 'advise', 'as', 'is', 'it', 'matter', 'seriously', 'this', 'to', 'treat', 'very', 'vital.', 'you', 'try', 'something', 'anything', 'really', 'deal'] ['You', 'affect', 'it', 'most', 'must', 'seriously,', 'take', 'this', 'will', 'you.', 'consider', 'now', 'let', 'about', 'need', 'have', 'involve', 'try', 'let', 'needs', 'wanna', 'let', 'ought', 'gotta']\n",
      "[[1.         0.33411447]\n",
      " [0.33411447 1.        ]]\n"
     ]
    }
   ],
   "source": [
    "print(stssrepjaccard)\n",
    "print(stsslist[0][1],stsslist[1][1])\n",
    "print(np.corrcoef(stssrepjaccard,stsslist[2]))"
   ]
  },
  {
   "cell_type": "code",
   "execution_count": 97,
   "id": "34f02154-5fea-47a2-a9ba-317441f587e3",
   "metadata": {},
   "outputs": [
    {
     "name": "stdout",
     "output_type": "stream",
     "text": [
      "[['Would', 'drink', 'go', 'like', 'me', 'out', 'to', 'tonight?', 'with', 'you', 'wish', 'all', 'die', 'this', 'start'], ['I', 'advise', 'as', 'is', 'it', 'matter', 'seriously', 'this', 'to', 'treat', 'very', 'vital.', 'you', 'try', 'something', 'anything', 'really', 'deal'], ['I', 'When', 'a', 'at', 'delay', 'friends', 'going', 'meet', 'my', 'out', 'station.', 'the', 'there', 'to', 'train', 'was', 'just', 'way'], ['Does', 'distract', 'does', 'help', 'it', 'much?', 'music', 'or', 'relax,', 'to', 'too', 'you', 'execute', 'cause', 'come', 'perform', 'get along', 'dress', 'suffice', 'make', 'practice', 'fare', 'exercise', 'answer', 'practise', 'serve', 'ut', 'arrange', 'manage', 'behave', 'bash', 'act', 'set', 'try', 'serve', 'even', 'bit', 'little'], ['You', 'alarm.', 'be', 'definitely', 'if', 'must', 'play', 'punished', 'realise', 'that', 'the', 'will', 'with', 'you', 'will', 'all', 'probably', 'now', 'all', 'wanna', 'know', 'all', 'wanna', 'need', 'needs', 'wanna', 'let', 'ought', 'gotta', 'should', 'would', 'sure'], ['I', 'ache.', 'laugh', 'make', 'much', 'sides', 'so', 'that', 'will', 'you', 'your', 'just', 'now', 'know'], ['You', 'be', 'covering', 'feel.', 'really', \"shouldn't\", 'what', 'you', 'yeah', 'really'], ['Do', 'behind', 'come', 'hill?', 'pub', 'the', 'to', 'us', 'want', 'with', 'you', 'need', 'will', 'can', 'fare', 'get along'], ['This', 'another?', 'be', 'could', \"doesn't\", 'give', 'key', 'me', 'seem', 'to', 'working,', 'you', 'consider', 'operative', 'would', 'wanna', 'even', 'come', 'each'], ['The', 'and', 'appeared', 'frightened', 'from', 'ghost', 'man.', 'nowhere', 'old', 'the', 'first', 'west', 'way', 'world', 'background', 'lord', 'revised', 'word', 'proposed', 'red', 'will', 'sacred', 'road', 'wind', 'need', 'editor', 'end', 'third', 'collected', 'second', 'recommended'], ['I', \"You're\", 'a', 'be', 'friend', 'good', 'if', 'need', 'not', 'prepared', 'present', 'to', 'when', \"you're\", 'you.', 'just', 'even', 'purposes', 'rhenium', 'subject', 'subject-matter', 'appointment', 'scope', 'object', 'purpose', 'election', 'they', 'note', 'gonna', 'opening', 'sunbeam', 'establishment', 'action', 'serrate', 'about', 'ray', 'objective', 'aim'], ['The', 'children', 'crossed', 'help', 'lady.', 'lollipop', 'of', 'road', 'safely', 'thanks', 'the', 'to', 'very', 'need', 'first', 'west', 'way', 'world', 'background', 'lord', 'revised', 'word', 'proposed', 'red', 'will', 'sacred', 'road', 'wind', 'need', 'editor', 'end', 'third', 'collected', 'second', 'recommended'], ['I', 'a', 'be', 'have', 'interesting.', 'invited', 'it', 'my', 'of', 'party', 'people', 'should', 'so', 'to', 'variety', 'urged', 'own', 'multitude', 'need', 'let', 'must', 'about'], ['I', 'John', 'Smith,', 'condolences', 'murdered.', 'my', 'of', 'offer', 'parents', 'the', 'to', 'unfortunately', 'was', 'who', 'way', 'sorry'], ['Boats', 'all', 'and', 'but', 'come', 'do', 'in', 'same', 'shapes', 'sizes', 'the', 'they', 'thing.', 'just', 'how', 'fare', 'get along', 'everybody'], ['I', 'If', 'continuously', 'guarantee', 'look', 'products,', 'these', 'use', 'very', 'will', 'you', 'young.', 'all'], ['We', 'children', 'day.', 'farther', 'other', 'ran', 'than', 'that', 'the', 'beyond', 'below', 'because', 'besides', 'think'], ['Coke.', 'I', 'a', 'always', 'drink', 'especially', 'have', 'if', 'in', \"it's\", 'lemon', 'like', 'my', 'of', 'slice', 'to', 'even', 'own', 'really', 'all', 'ever', 'everything', 'very', 'everything', 'everything', 'god'], [\"I've\", 'It', 'can', 'doctor,', 'ear', 'eczema', 'for', 'got', 'like', 'me?', 'my', 'on', 'recommend', 'seems', 'something', 'you', 'everything', 'suggests', 'deal', 'kind', 'sort', 'did', 'think', 'does', 'die', 'deal', 'have', 'deal', 'come', 'get', 'dear', 'eye'], ['I', 'am', 'it.', 'most', 'nation,', 'of', 'our', 'proud', 'well,'], ['There', 'a', 'builders', 'by', 'heap', 'house', 'left', 'morning.', 'my', 'of', 'outside', 'rubble', 'the', 'this', 'was', 'here', 'yeah', 'however', 'way', 'right', 'everything', 'right'], ['Celsius.', 'Water', 'a', 'at', 'certain', 'degrees', 'freezes', 'is', 'temperature,', 'which', 'zero', 'celsius'], ['We', 'a', 'although', 'end,', 'got', 'home', 'in', 'it', 'journey.', 'long', 'safely', 'the', 'was', 'right', 'without'], ['A', 'Dave', 'a', 'called', 'diamond', 'engagement.', 'fiancÃ©e', 'for', 'gave', 'his', 'large', 'man', 'ring', 'their', 'particular', 'whose', 'ses', 'thereof', 'equally', 'every bit', 'electricity', 'leong', 'arsenic', 'atomic number 33', 'spain'], ['I', 'North', 'Tyneside.', 'a', 'fact', 'for', 'in', 'lot,', 'once', 'quite', 'ran', 'run', 'to', 'used', 'indeed'], ['I', 'around', 'as', 'happy', 'it', 'laugh', 'love', 'makes', 'me', 'me.', 'those', 'to', 'well', 'deal', 'above', 'both', 'about', 'fortunate', 'dear'], ['Because', 'I', 'am', 'be', 'eldest', 'more', 'one', 'responsible.', 'should', 'the', 'first', 'better', 'longer', 'need'], ['I', 'because', 'chip', 'dash', 'fire.', 'into', 'is', 'kitchen', 'my', 'need', 'on', 'pan', 'the', 'think', 'to', 'way', 'want', 'have', 'stove'], ['Peter', 'a', 'delight.', 'his', 'intimidated', 'large', 'most', 'much', 'people,', 'size', 'to', 'very', 'was', 'whose', 'youth,', 'children', 'tool', 'such', 'extremely', 'what'], [\"I'm\", 'a', 'an', 'buy', 'going', 'grey', 'half', 'hour.', 'in', 'jumper', 'to', 'today,'], ['We', 'and', 'are', 'but', 'dry.', 'got', 'in', 'nice', 'now', 'rain', 'soaked', 'the', 'today,', 'we', 'how', 'here', 'nowadays', 'right', 'wet', 'right', 'yet', 'just', 'still', 'earlier', 'prior', 'let', 'anyone', 'are', 'situation', 'anybody', 'right', 'fung', 'huh', 'someone', 'before', 'was', 'true', 'because', 'should', 'really', 'man', 'besides', 'somebody', 'alone', 'now', 'this'], ['Global', 'about', 'everyone', 'is', 'today.', 'warming', 'what', 'worrying', 'everything', 'anything'], ['He', 'alarms', 'fire', 'for', 'harshly', 'off.', 'punished', 'setting', 'the', 'was', 'this', 'need', 'background'], ['12', 'Midday', 'day.', 'in', 'is', 'middle', \"o'clock\", 'of', 'the', 'mid', 'back', 'second', 'midnight', 'noon'], [\"That's\", 'a', 'car,', 'good', 'great.', 'hand', 'is', 'mine', 'not', 'on', 'other', 'the', 'very', 'really', 'just'], ['M16', 'There', 'a', 'accident,', 'pileup,on', 'terrible', 'the', 'today.', 'was', 'crashes', 'crash'], ['After', 'arrived', 'at', 'eventually', 'getting', 'hotel.', 'hours', 'lost', 'of', 'the', 'we', 'before', 'prior', 'later', 'then', 'subsequently'], ['I', 'The', 'a', 'coffee.', 'cup', 'do', 'first', 'in', 'is', 'make', 'morning', 'myself', 'of', 'thing', 'way'], ['I', 'Someone', 'a', 'accidentally', 'changed', 'drink', 'it.', 'my', 'on', 'shirt,', 'so', 'spilt', 'reversed'], [\"I'm\", 'about', 'essay.', 'most', 'not', 'presentation,', 'seriously', 'the', 'worried', 'nearly', 'all but', 'almost', 'near', 'virtually', 'well-nigh', 'nigh', 'just about', 'actually', 'really', 'just', 'only'], ['It', 'difficult', 'exam.', 'full', 'gain', 'in', 'is', 'marks', 'mostly', 'to', \"today's\", 'very', 'sign'], ['Meet', 'an', 'behind', 'church', 'half', 'hill', 'hour.', 'in', 'me', 'on', 'the'], ['If', 'a', 'chance', 'console', \"don't\", 'feelings.', 'friend,', 'hurt', 'is', 'may', 'their', 'there', 'with', 'you', 'even', 'such', 'can', 'potentially', 'all', 'that', 'not', 'would'], ['We', 'bargain', 'but', 'change', \"didn't\", 'difference,', 'he', 'him', 'his', 'it', 'made', 'mind.', 'no', 'still', 'to', 'tried', 'with', 'buy', 'her', 'himself', 'this', 'not', 'was', 'man', 'because', 'was', 'man', 'yet', 'nonetheless', 'even', 'however', 'nevertheless', 'only', 'proved', 'deal', 'gift', 'should', 'him', 'this', 'was', 'man', 'did', 'this', 'that'], ['It', 'announce', 'beauty', 'gives', 'great', 'me', 'of', 'pageant.', 'pleasure', 'the', 'this', 'to', 'winner', \"year's\", 'date', 'enjoyment', 'deal', 'end', 'current', 'try'], ['America', 'They', 'go', 'holiday.', 'hoping', 'on', 'said', 'they', 'to', 'were', 'states', 'kids', 'such', 'ces', 'let', 'him', 'ils', 'departments', 'rwc', 'members', 'people', 'everybody', 'parties', 'how', 'ministers', 'states', 'counsel', 'women', 'children', 'les', 'canadians', 'theirs'], ['I', 'Will', 'drive', 'far', 'get', 'have', 'nearest', 'petrol', 'station?', 'the', 'to', 'let', 'need', 'receive', 'make', 'take', 'let', 'west', 'furthermost', 'outlying', 'get', 'let', 'motor'], ['I', 'a', 'because', 'face.', 'familiar', 'from', 'has', 'her', 'know', 'she', 'somewhere', 'think', 'girl', 'him', 'now', 'knows', 'around', 'there', 'where'], ['I', 'a', 'am', 'as', 'but', \"can't\", 'do.', 'go', 'have', 'heap', 'of', 'out', 'sorry', 'to', 'work', 'either', 'run', 'operate', 'belong', 'accept', 'get', 'ass', 'equally', 'every bit', 'electricity', 'leong', 'arsenic', 'atomic number 33', 'spain', 'get'], ['The', 'back', 'car.', 'crashed', 'felt', 'guilty', 'he', 'into', 'man', 'of', 'responsible', \"someone's\", 'the', 'very', 'when', 'was', 'had', 'world', 'second', 'first', 'west', 'way', 'world', 'background', 'lord', 'revised', 'word', 'proposed', 'red', 'will', 'sacred', 'road', 'wind', 'need', 'editor', 'end', 'third', 'collected', 'second', 'recommended', 'culpable', 'world', 'second'], ['Get', 'brand', 'dog', 'my', 'new', 'off', 'sofa.', 'that', 'wet', 'white', 'have', 'make'], ['He', 'Iraq', 'a', 'before', 'being', 'car', 'crash.', 'fought', 'in', 'killed', 'the', 'war', 'died', 'battle', 'first', 'without'], ['The', 'back', 'cat', 'find', 'garden', 'he', 'hungry', 'into', 'lunch.', 'so', 'the', 'to', 'was', 'went', 'first', 'west', 'way', 'world', 'background', 'lord', 'revised', 'word', 'proposed', 'red', 'will', 'sacred', 'road', 'wind', 'need', 'editor', 'end', 'third', 'collected', 'second', 'recommended', 'this', 'second'], ['My', 'bedroom', 'but', 'coloured', 'is', 'it', 'lemon', 'mother', 'my', 'says', 'wall', 'yellow.', 'way', 'her', 'hero', 'lai', 'own', 'god', 'everything', 'knowledge', 'dear', 'have', 'darling', 'boy', 'afflicted', 'rady', 'eye', 'goodness', 'guest', 'month', 'cue', 'barrow', 'treat'], ['Would', 'drink', 'like', 'meal?', 'this', 'to', 'wine', 'with', 'you', 'your', 'beverage', 'booze', 'try', 'this', 'know', 'just', 'wish', 'far'], ['Roses', 'be', 'best', 'can', 'colours,', 'different', 'has', 'is', 'it', 'red', 'said', 'the', 'though.', 'to', 'first', 'red', 'colored', 'chromatic', 'colored', 'coloured', 'colored'], ['Flies', 'a', 'also', 'and', 'can', 'carry', 'cause', 'disease', 'lot', 'maggots.', 'of', 'get'], ['Could', 'and', 'cat', 'climb', 'from', 'jumping', 'my', 'please?', 'save', 'the', 'tree', 'up', 'you', 'wanna', 'leap', 'bounce', 'way', 'how'], ['I', 'The', 'from', 'get', 'is', 'learn', 'new', 'pleasure', 'studying,', 'that', 'things.', 'see', 'take'], ['The', 'are', 'core.', 'crimes', 'of', 'perpetrators', 'rotten', 'the', 'to', 'war', 'first', 'west', 'way', 'world', 'background', 'lord', 'revised', 'word', 'proposed', 'red', 'will', 'sacred', 'road', 'wind', 'need', 'editor', 'end', 'third', 'collected', 'second', 'recommended'], ['The', 'corner', 'damp', 'in', 'mostly', 'of', 'room.', 'the', 'very', 'was', 'first', 'west', 'way', 'world', 'background', 'lord', 'revised', 'word', 'proposed', 'red', 'will', 'sacred', 'road', 'wind', 'need', 'editor', 'end', 'third', 'collected', 'second', 'recommended'], ['We', 'always', 'because', 'late.', 'often', 'ran', 'school', 'to', 'we', 'were', 'earlier', 'prior', 'let', 'anyone', 'are', 'situation', 'anybody', 'right', 'fung', 'huh', 'someone', 'before', 'was', 'true', 'because', 'should', 'really', 'man', 'besides', 'somebody', 'alone', 'came', 'appeared', 'went', 'saw', 'looked', 'got', 'usually', 'sometimes', 'generally', 'traditionally', 'invariably'], ['I', 'can', 'get', 'here.', 'hope', 'if', 'not', 'of', 'out', 'seriously,', 'taking', 'this', 'you', \"you're\", 'let', 'let', 'anything', 'however', 'even', 'assuming', 'everything', 'actually', 'really', 'aim'], ['The', 'a', 'along', 'edge', 'is', 'it.', 'lake', 'land', 'of', 'or', 'river', 'sea,', 'shore', 'shores', 'the', 'wide', 'river', 'sea', 'creek', 'water', 'basin', 'seashore', 'land', 'beach', 'set ashore', 'waterfront', 'coastal', 'river', 'coasts', 'shoreline', 'coast', 'onshore', 'first', 'west', 'way', 'world', 'background', 'lord', 'revised', 'word', 'proposed', 'red', 'will', 'sacred', 'road', 'wind', 'need', 'editor', 'end', 'third', 'collected', 'second', 'recommended', 'offshore', 'coast', 'shoreline', 'riverbank', 'shoreline', 'waters', 'coast', 'river'], ['I', 'a', 'bought', 'do', 'guitar', 'it?', 'like', 'new', 'today,', 'you', 'date'], ['I', 'Iam', 'a', 'could', 'dessert.', 'eat', 'horse', 'hungry', 'plus', 'so', 'whole']]\n"
     ]
    }
   ],
   "source": [
    "print(stsslist[0])"
   ]
  },
  {
   "cell_type": "markdown",
   "id": "fcc8bf35-02bd-4271-a3ac-446b8a93c466",
   "metadata": {},
   "source": [
    "6.\tRepeat the process of sentence similarity of STSS-131 but using word2vec embedding as in the labs assuming the vector representation of a sentence is the average of the word embedding vectors of all tokens in the sentence. Calculate the corresponding Pearson correlation as well. "
   ]
  },
  {
   "cell_type": "code",
   "execution_count": 154,
   "id": "62987c93-566c-4320-8303-fe63cfd80e78",
   "metadata": {},
   "outputs": [
    {
     "name": "stdout",
     "output_type": "stream",
     "text": [
      "Training model....\n"
     ]
    }
   ],
   "source": [
    "#https://www.kaggle.com/varun08/sentiment-analysis-using-word2vec\n",
    "\n",
    "num_features = 300\n",
    "\n",
    "import gensim.models\n",
    "print(\"Training model....\")\n",
    "model = gensim.models.Word2Vec(sentences=stsslist[0],vector_size=num_features,min_count=2,window=5)\n",
    "\n",
    "\n",
    "# Saving the model for later use. Can be loaded using Word2Vec.load()\n",
    "model_name = \"300fea_7min_10con_stss1\"\n",
    "model.save(model_name)"
   ]
  },
  {
   "cell_type": "code",
   "execution_count": 146,
   "id": "df5d257c-32d0-4921-a3cb-7f1166d6a00a",
   "metadata": {},
   "outputs": [
    {
     "data": {
      "text/plain": [
       "205"
      ]
     },
     "execution_count": 146,
     "metadata": {},
     "output_type": "execute_result"
    }
   ],
   "source": [
    "len(model.wv.index_to_key)"
   ]
  },
  {
   "cell_type": "code",
   "execution_count": 129,
   "id": "5826fca8-6ac3-4944-830f-5e29bc34ad02",
   "metadata": {},
   "outputs": [
    {
     "data": {
      "text/plain": [
       "[('We', 0.38745418190956116),\n",
       " ('me.', 0.29574424028396606),\n",
       " ('crashes', 0.2860722243785858),\n",
       " ('anybody', 0.2745663821697235),\n",
       " ('A', 0.27224212884902954),\n",
       " ('which', 0.26760005950927734),\n",
       " ('word', 0.26086941361427307),\n",
       " ('need', 0.25732383131980896),\n",
       " ('third', 0.23782198131084442),\n",
       " ('belong', 0.2372349500656128)]"
      ]
     },
     "execution_count": 129,
     "metadata": {},
     "output_type": "execute_result"
    }
   ],
   "source": [
    "model.wv.most_similar(\"man\")\n",
    "model.wv.most_similar(\"horse\")"
   ]
  },
  {
   "cell_type": "code",
   "execution_count": 147,
   "id": "dbb2d83c-c5e7-40c5-8dcb-df6ccd1b342c",
   "metadata": {},
   "outputs": [],
   "source": [
    "# Function to average all word vectors in a paragraph\n",
    "def featureVecMethod(words, model, num_features):\n",
    "    # Pre-initialising empty numpy array for speed\n",
    "    featureVec = np.zeros(num_features,dtype=\"float32\")\n",
    "    nwords = 0\n",
    "    \n",
    "    #Converting Index2Word which is a list to a set for better speed in the execution.\n",
    "    index_to_key_set = set(model.wv.index_to_key)\n",
    "    \n",
    "    for word in  words:\n",
    "        if word in index_to_key_set:\n",
    "            nwords = nwords + 1\n",
    "            featureVec = np.add(featureVec,model.wv[word])\n",
    "    \n",
    "    # Dividing the result by number of words to get average\n",
    "    featureVec = np.divide(featureVec, nwords)\n",
    "    return featureVec"
   ]
  },
  {
   "cell_type": "code",
   "execution_count": 134,
   "id": "aeb216ab-0b22-4454-8003-003f5016e4e4",
   "metadata": {},
   "outputs": [
    {
     "name": "stdout",
     "output_type": "stream",
     "text": [
      "['Would', 'drink', 'go', 'like', 'me', 'out', 'to', 'tonight?', 'with', 'you', 'wish', 'all', 'die', 'this', 'start']\n"
     ]
    }
   ],
   "source": [
    "print(stsslist[0][0])"
   ]
  },
  {
   "cell_type": "code",
   "execution_count": 158,
   "id": "40ac7843-2699-4bff-aaf9-4b5ade4154ee",
   "metadata": {},
   "outputs": [
    {
     "name": "stdout",
     "output_type": "stream",
     "text": [
      "[[1.         0.45919973]\n",
      " [0.45919973 1.        ]]\n"
     ]
    }
   ],
   "source": [
    "vec1 = featureVecMethod(stsslist[0][2], model, num_features)\n",
    "vec2 = featureVecMethod(stsslist[1][2], model, num_features)\n",
    "print(np.corrcoef(vec1,vec2))"
   ]
  },
  {
   "cell_type": "markdown",
   "id": "536fa19d-9e86-4280-8148-590f1dda9053",
   "metadata": {},
   "source": [
    "7.\tRepeat 6) when using Glove and FastText embedding. Comment on the overall performance of Datamuse API based approach for text similarity. "
   ]
  },
  {
   "cell_type": "markdown",
   "id": "45ddb93a-50a6-469b-8a9d-be3db8b1a778",
   "metadata": {},
   "source": [
    "8.\tStudy the programs in https://github.com/gsi-upm/sematch they attempt to provide other individual similarity but using other lexical database, not necessarily WordNet. Accommodate the provided files into your compare and repeat the calculus of Sim(S1,S2) for each pair of sentence where the individual similarity Sim(s,t) is calculated using YAGO concepts or DBPedia concepts freely available from the program. Compare the behavior of the result."
   ]
  },
  {
   "cell_type": "markdown",
   "id": "bf141fed-d493-40c6-b414-59440852a9c1",
   "metadata": {},
   "source": [
    "9.\tSuggest GUI of your own that facilitate the demonstration of your finding above"
   ]
  }
 ],
 "metadata": {
  "kernelspec": {
   "display_name": "Python 3 (ipykernel)",
   "language": "python",
   "name": "python3"
  },
  "language_info": {
   "codemirror_mode": {
    "name": "ipython",
    "version": 3
   },
   "file_extension": ".py",
   "mimetype": "text/x-python",
   "name": "python",
   "nbconvert_exporter": "python",
   "pygments_lexer": "ipython3",
   "version": "3.8.12"
  }
 },
 "nbformat": 4,
 "nbformat_minor": 5
}
